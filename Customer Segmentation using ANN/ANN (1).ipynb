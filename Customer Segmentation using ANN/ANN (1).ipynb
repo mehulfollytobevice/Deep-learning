{
 "cells": [
  {
   "cell_type": "code",
   "execution_count": 0,
   "metadata": {
    "colab": {},
    "colab_type": "code",
    "id": "zokJOfioeXXw"
   },
   "outputs": [],
   "source": [
    "#cpu-used for general purpose task\n",
    "#gpu-much more desirable for compute intensive task,has more cores and does more FLOPS than cpu.Also does parallel computation"
   ]
  },
  {
   "cell_type": "code",
   "execution_count": 5,
   "metadata": {
    "colab": {
     "base_uri": "https://localhost:8080/",
     "height": 34
    },
    "colab_type": "code",
    "id": "Nje8CCJ5hY0a",
    "outputId": "55950671-a6f0-4b52-e42b-6c7bf509e426"
   },
   "outputs": [
    {
     "name": "stderr",
     "output_type": "stream",
     "text": [
      "Using TensorFlow backend.\n"
     ]
    }
   ],
   "source": [
    "import keras"
   ]
  },
  {
   "cell_type": "markdown",
   "metadata": {
    "colab_type": "text",
    "id": "oAybU5e6Izx7"
   },
   "source": [
    "# Data Preprocessing"
   ]
  },
  {
   "cell_type": "markdown",
   "metadata": {
    "colab_type": "text",
    "id": "slQb5QgMH4kY"
   },
   "source": [
    "Importing the libraries"
   ]
  },
  {
   "cell_type": "code",
   "execution_count": 0,
   "metadata": {
    "colab": {},
    "colab_type": "code",
    "id": "bMBfxhsE71Iz"
   },
   "outputs": [],
   "source": [
    "import numpy as np\n",
    "import pandas as pd\n",
    "import matplotlib.pyplot as plt"
   ]
  },
  {
   "cell_type": "markdown",
   "metadata": {
    "colab_type": "text",
    "id": "8BpecM6QH8oh"
   },
   "source": [
    "Importing the dataset"
   ]
  },
  {
   "cell_type": "code",
   "execution_count": 0,
   "metadata": {
    "colab": {},
    "colab_type": "code",
    "id": "lA9YJZRC8C3N"
   },
   "outputs": [],
   "source": [
    "dataset=pd.read_csv(\"Churn_Modelling.csv\")"
   ]
  },
  {
   "cell_type": "code",
   "execution_count": 8,
   "metadata": {
    "colab": {
     "base_uri": "https://localhost:8080/",
     "height": 422
    },
    "colab_type": "code",
    "id": "SACRN1tx8GIN",
    "outputId": "c45fe81b-a1cd-4ac6-c904-18554dba3a24"
   },
   "outputs": [
    {
     "data": {
      "text/html": [
       "<div>\n",
       "<style scoped>\n",
       "    .dataframe tbody tr th:only-of-type {\n",
       "        vertical-align: middle;\n",
       "    }\n",
       "\n",
       "    .dataframe tbody tr th {\n",
       "        vertical-align: top;\n",
       "    }\n",
       "\n",
       "    .dataframe thead th {\n",
       "        text-align: right;\n",
       "    }\n",
       "</style>\n",
       "<table border=\"1\" class=\"dataframe\">\n",
       "  <thead>\n",
       "    <tr style=\"text-align: right;\">\n",
       "      <th></th>\n",
       "      <th>RowNumber</th>\n",
       "      <th>CustomerId</th>\n",
       "      <th>Surname</th>\n",
       "      <th>CreditScore</th>\n",
       "      <th>Geography</th>\n",
       "      <th>Gender</th>\n",
       "      <th>Age</th>\n",
       "      <th>Tenure</th>\n",
       "      <th>Balance</th>\n",
       "      <th>NumOfProducts</th>\n",
       "      <th>HasCrCard</th>\n",
       "      <th>IsActiveMember</th>\n",
       "      <th>EstimatedSalary</th>\n",
       "      <th>Exited</th>\n",
       "    </tr>\n",
       "  </thead>\n",
       "  <tbody>\n",
       "    <tr>\n",
       "      <th>0</th>\n",
       "      <td>1</td>\n",
       "      <td>15634602</td>\n",
       "      <td>Hargrave</td>\n",
       "      <td>619</td>\n",
       "      <td>France</td>\n",
       "      <td>Female</td>\n",
       "      <td>42</td>\n",
       "      <td>2</td>\n",
       "      <td>0.00</td>\n",
       "      <td>1</td>\n",
       "      <td>1</td>\n",
       "      <td>1</td>\n",
       "      <td>101348.88</td>\n",
       "      <td>1</td>\n",
       "    </tr>\n",
       "    <tr>\n",
       "      <th>1</th>\n",
       "      <td>2</td>\n",
       "      <td>15647311</td>\n",
       "      <td>Hill</td>\n",
       "      <td>608</td>\n",
       "      <td>Spain</td>\n",
       "      <td>Female</td>\n",
       "      <td>41</td>\n",
       "      <td>1</td>\n",
       "      <td>83807.86</td>\n",
       "      <td>1</td>\n",
       "      <td>0</td>\n",
       "      <td>1</td>\n",
       "      <td>112542.58</td>\n",
       "      <td>0</td>\n",
       "    </tr>\n",
       "    <tr>\n",
       "      <th>2</th>\n",
       "      <td>3</td>\n",
       "      <td>15619304</td>\n",
       "      <td>Onio</td>\n",
       "      <td>502</td>\n",
       "      <td>France</td>\n",
       "      <td>Female</td>\n",
       "      <td>42</td>\n",
       "      <td>8</td>\n",
       "      <td>159660.80</td>\n",
       "      <td>3</td>\n",
       "      <td>1</td>\n",
       "      <td>0</td>\n",
       "      <td>113931.57</td>\n",
       "      <td>1</td>\n",
       "    </tr>\n",
       "    <tr>\n",
       "      <th>3</th>\n",
       "      <td>4</td>\n",
       "      <td>15701354</td>\n",
       "      <td>Boni</td>\n",
       "      <td>699</td>\n",
       "      <td>France</td>\n",
       "      <td>Female</td>\n",
       "      <td>39</td>\n",
       "      <td>1</td>\n",
       "      <td>0.00</td>\n",
       "      <td>2</td>\n",
       "      <td>0</td>\n",
       "      <td>0</td>\n",
       "      <td>93826.63</td>\n",
       "      <td>0</td>\n",
       "    </tr>\n",
       "    <tr>\n",
       "      <th>4</th>\n",
       "      <td>5</td>\n",
       "      <td>15737888</td>\n",
       "      <td>Mitchell</td>\n",
       "      <td>850</td>\n",
       "      <td>Spain</td>\n",
       "      <td>Female</td>\n",
       "      <td>43</td>\n",
       "      <td>2</td>\n",
       "      <td>125510.82</td>\n",
       "      <td>1</td>\n",
       "      <td>1</td>\n",
       "      <td>1</td>\n",
       "      <td>79084.10</td>\n",
       "      <td>0</td>\n",
       "    </tr>\n",
       "    <tr>\n",
       "      <th>...</th>\n",
       "      <td>...</td>\n",
       "      <td>...</td>\n",
       "      <td>...</td>\n",
       "      <td>...</td>\n",
       "      <td>...</td>\n",
       "      <td>...</td>\n",
       "      <td>...</td>\n",
       "      <td>...</td>\n",
       "      <td>...</td>\n",
       "      <td>...</td>\n",
       "      <td>...</td>\n",
       "      <td>...</td>\n",
       "      <td>...</td>\n",
       "      <td>...</td>\n",
       "    </tr>\n",
       "    <tr>\n",
       "      <th>9995</th>\n",
       "      <td>9996</td>\n",
       "      <td>15606229</td>\n",
       "      <td>Obijiaku</td>\n",
       "      <td>771</td>\n",
       "      <td>France</td>\n",
       "      <td>Male</td>\n",
       "      <td>39</td>\n",
       "      <td>5</td>\n",
       "      <td>0.00</td>\n",
       "      <td>2</td>\n",
       "      <td>1</td>\n",
       "      <td>0</td>\n",
       "      <td>96270.64</td>\n",
       "      <td>0</td>\n",
       "    </tr>\n",
       "    <tr>\n",
       "      <th>9996</th>\n",
       "      <td>9997</td>\n",
       "      <td>15569892</td>\n",
       "      <td>Johnstone</td>\n",
       "      <td>516</td>\n",
       "      <td>France</td>\n",
       "      <td>Male</td>\n",
       "      <td>35</td>\n",
       "      <td>10</td>\n",
       "      <td>57369.61</td>\n",
       "      <td>1</td>\n",
       "      <td>1</td>\n",
       "      <td>1</td>\n",
       "      <td>101699.77</td>\n",
       "      <td>0</td>\n",
       "    </tr>\n",
       "    <tr>\n",
       "      <th>9997</th>\n",
       "      <td>9998</td>\n",
       "      <td>15584532</td>\n",
       "      <td>Liu</td>\n",
       "      <td>709</td>\n",
       "      <td>France</td>\n",
       "      <td>Female</td>\n",
       "      <td>36</td>\n",
       "      <td>7</td>\n",
       "      <td>0.00</td>\n",
       "      <td>1</td>\n",
       "      <td>0</td>\n",
       "      <td>1</td>\n",
       "      <td>42085.58</td>\n",
       "      <td>1</td>\n",
       "    </tr>\n",
       "    <tr>\n",
       "      <th>9998</th>\n",
       "      <td>9999</td>\n",
       "      <td>15682355</td>\n",
       "      <td>Sabbatini</td>\n",
       "      <td>772</td>\n",
       "      <td>Germany</td>\n",
       "      <td>Male</td>\n",
       "      <td>42</td>\n",
       "      <td>3</td>\n",
       "      <td>75075.31</td>\n",
       "      <td>2</td>\n",
       "      <td>1</td>\n",
       "      <td>0</td>\n",
       "      <td>92888.52</td>\n",
       "      <td>1</td>\n",
       "    </tr>\n",
       "    <tr>\n",
       "      <th>9999</th>\n",
       "      <td>10000</td>\n",
       "      <td>15628319</td>\n",
       "      <td>Walker</td>\n",
       "      <td>792</td>\n",
       "      <td>France</td>\n",
       "      <td>Female</td>\n",
       "      <td>28</td>\n",
       "      <td>4</td>\n",
       "      <td>130142.79</td>\n",
       "      <td>1</td>\n",
       "      <td>1</td>\n",
       "      <td>0</td>\n",
       "      <td>38190.78</td>\n",
       "      <td>0</td>\n",
       "    </tr>\n",
       "  </tbody>\n",
       "</table>\n",
       "<p>10000 rows × 14 columns</p>\n",
       "</div>"
      ],
      "text/plain": [
       "      RowNumber  CustomerId    Surname  ...  IsActiveMember EstimatedSalary Exited\n",
       "0             1    15634602   Hargrave  ...               1       101348.88      1\n",
       "1             2    15647311       Hill  ...               1       112542.58      0\n",
       "2             3    15619304       Onio  ...               0       113931.57      1\n",
       "3             4    15701354       Boni  ...               0        93826.63      0\n",
       "4             5    15737888   Mitchell  ...               1        79084.10      0\n",
       "...         ...         ...        ...  ...             ...             ...    ...\n",
       "9995       9996    15606229   Obijiaku  ...               0        96270.64      0\n",
       "9996       9997    15569892  Johnstone  ...               1       101699.77      0\n",
       "9997       9998    15584532        Liu  ...               1        42085.58      1\n",
       "9998       9999    15682355  Sabbatini  ...               0        92888.52      1\n",
       "9999      10000    15628319     Walker  ...               0        38190.78      0\n",
       "\n",
       "[10000 rows x 14 columns]"
      ]
     },
     "execution_count": 8,
     "metadata": {
      "tags": []
     },
     "output_type": "execute_result"
    }
   ],
   "source": [
    "dataset"
   ]
  },
  {
   "cell_type": "markdown",
   "metadata": {
    "colab_type": "text",
    "id": "fowY3NGXH_lO"
   },
   "source": [
    "Making the matrix of features , and seperating the dependent variable."
   ]
  },
  {
   "cell_type": "code",
   "execution_count": 0,
   "metadata": {
    "colab": {},
    "colab_type": "code",
    "id": "6jTmY1Hx8Hub"
   },
   "outputs": [],
   "source": [
    "'''\n",
    "for X we are using only two factors , \n",
    "age and salary to apply logistic regression and find out who purchases the product and who does not \n",
    "'''\n",
    "X=dataset.iloc[:,3:13].values\n",
    "y=dataset.iloc[:,-1].values"
   ]
  },
  {
   "cell_type": "markdown",
   "metadata": {
    "colab_type": "text",
    "id": "Oug6gbvaIH-6"
   },
   "source": [
    "Encoding the categorical variables ."
   ]
  },
  {
   "cell_type": "code",
   "execution_count": 0,
   "metadata": {
    "colab": {},
    "colab_type": "code",
    "id": "OU43FeIg8QuV"
   },
   "outputs": [],
   "source": [
    "\n",
    "from sklearn.preprocessing import LabelEncoder,OneHotEncoder\n",
    "labelencoder_X_1=LabelEncoder()\n",
    "X[:,1]=labelencoder_X_1.fit_transform(X[:,1])\n",
    "labelencoder_X_2=LabelEncoder()\n",
    "X[:,2]=labelencoder_X_2.fit_transform(X[:,2])\n",
    "# so we get the encoded values but there might be problems, that is why we do dummy coding"
   ]
  },
  {
   "cell_type": "code",
   "execution_count": 20,
   "metadata": {
    "colab": {
     "base_uri": "https://localhost:8080/",
     "height": 134
    },
    "colab_type": "code",
    "id": "6lEsN2Np9znH",
    "outputId": "e87b953d-548d-44f4-a54d-a5c74a918b19"
   },
   "outputs": [
    {
     "data": {
      "text/plain": [
       "array([[619, 0, 0, ..., 1, 1, 101348.88],\n",
       "       [608, 2, 0, ..., 0, 1, 112542.58],\n",
       "       [502, 0, 0, ..., 1, 0, 113931.57],\n",
       "       ...,\n",
       "       [709, 0, 0, ..., 0, 1, 42085.58],\n",
       "       [772, 1, 1, ..., 1, 0, 92888.52],\n",
       "       [792, 0, 0, ..., 1, 0, 38190.78]], dtype=object)"
      ]
     },
     "execution_count": 20,
     "metadata": {
      "tags": []
     },
     "output_type": "execute_result"
    }
   ],
   "source": [
    "X\n"
   ]
  },
  {
   "cell_type": "markdown",
   "metadata": {
    "colab_type": "text",
    "id": "Z1frm8InIQXy"
   },
   "source": [
    "Dummy coding and removing one dummy coded column to avoid dummy variable trap"
   ]
  },
  {
   "cell_type": "code",
   "execution_count": 0,
   "metadata": {
    "colab": {},
    "colab_type": "code",
    "id": "iH3tjm0r8Vem"
   },
   "outputs": [],
   "source": [
    "#Dummy coding using OneHotEncoder\n",
    "#X\n",
    "from sklearn.compose import ColumnTransformer\n",
    "\n",
    "transformer = ColumnTransformer(\n",
    "    transformers=[\n",
    "        (\"OneHot\",        # Just a name\n",
    "         OneHotEncoder(), # The transformer class\n",
    "         [1]              # The column(s) to be applied on.\n",
    "         )\n",
    "    ],\n",
    "    remainder='passthrough' # donot apply anything to the remaining columns\n",
    ")\n",
    "X = transformer.fit_transform(X.tolist())\n",
    "X = X.astype('float64')\n",
    "\n",
    "# To avoid the dummy variable trap , we remove one  of the dummy variables \n",
    "X=X[:,1:]"
   ]
  },
  {
   "cell_type": "code",
   "execution_count": 26,
   "metadata": {
    "colab": {
     "base_uri": "https://localhost:8080/",
     "height": 235
    },
    "colab_type": "code",
    "id": "GxROQt668ZBZ",
    "outputId": "0081161b-1180-46e5-b6f0-26c6532b3b8e"
   },
   "outputs": [
    {
     "data": {
      "text/plain": [
       "array([[0.0000000e+00, 0.0000000e+00, 6.1900000e+02, ..., 1.0000000e+00,\n",
       "        1.0000000e+00, 1.0134888e+05],\n",
       "       [0.0000000e+00, 1.0000000e+00, 6.0800000e+02, ..., 0.0000000e+00,\n",
       "        1.0000000e+00, 1.1254258e+05],\n",
       "       [0.0000000e+00, 0.0000000e+00, 5.0200000e+02, ..., 1.0000000e+00,\n",
       "        0.0000000e+00, 1.1393157e+05],\n",
       "       ...,\n",
       "       [0.0000000e+00, 0.0000000e+00, 7.0900000e+02, ..., 0.0000000e+00,\n",
       "        1.0000000e+00, 4.2085580e+04],\n",
       "       [1.0000000e+00, 0.0000000e+00, 7.7200000e+02, ..., 1.0000000e+00,\n",
       "        0.0000000e+00, 9.2888520e+04],\n",
       "       [0.0000000e+00, 0.0000000e+00, 7.9200000e+02, ..., 1.0000000e+00,\n",
       "        0.0000000e+00, 3.8190780e+04]])"
      ]
     },
     "execution_count": 26,
     "metadata": {
      "tags": []
     },
     "output_type": "execute_result"
    }
   ],
   "source": [
    "X"
   ]
  },
  {
   "cell_type": "markdown",
   "metadata": {
    "colab_type": "text",
    "id": "hE2yU6w6Idem"
   },
   "source": [
    "Splitting dataset into training set and test set"
   ]
  },
  {
   "cell_type": "code",
   "execution_count": 0,
   "metadata": {
    "colab": {},
    "colab_type": "code",
    "id": "fHQ3vqsI_7U9"
   },
   "outputs": [],
   "source": [
    "#splitting the dataset into a training set and a test set\n",
    "from sklearn.model_selection import train_test_split\n",
    "X_train,X_test,y_train,y_test=train_test_split(X,y,test_size=0.20,random_state=0)"
   ]
  },
  {
   "cell_type": "markdown",
   "metadata": {
    "colab_type": "text",
    "id": "rwTvBmu4Ij5v"
   },
   "source": [
    "Applying feature scaling  to ease computation"
   ]
  },
  {
   "cell_type": "code",
   "execution_count": 0,
   "metadata": {
    "colab": {},
    "colab_type": "code",
    "id": "f8bSxYEsACLh"
   },
   "outputs": [],
   "source": [
    "#feature scaling(Compulsary for neural networks )\n",
    "from sklearn.preprocessing import StandardScaler\n",
    "sc_X=StandardScaler()\n",
    "X_train=sc_X.fit_transform(X_train)\n",
    "X_test=sc_X.transform(X_test)\n",
    "#y consists of categorical values so we do not need to scale it"
   ]
  },
  {
   "cell_type": "code",
   "execution_count": 0,
   "metadata": {
    "colab": {},
    "colab_type": "code",
    "id": "975R4_E9AGaa"
   },
   "outputs": [],
   "source": [
    "import keras"
   ]
  },
  {
   "cell_type": "code",
   "execution_count": 32,
   "metadata": {
    "colab": {
     "base_uri": "https://localhost:8080/",
     "height": 235
    },
    "colab_type": "code",
    "id": "2n0AMvz7AMzR",
    "outputId": "30f1e373-dbe6-42da-fbff-75fdb9de39f2"
   },
   "outputs": [
    {
     "data": {
      "text/plain": [
       "array([[-0.5698444 ,  1.74309049,  0.16958176, ...,  0.64259497,\n",
       "        -1.03227043,  1.10643166],\n",
       "       [ 1.75486502, -0.57369368, -2.30455945, ...,  0.64259497,\n",
       "         0.9687384 , -0.74866447],\n",
       "       [-0.5698444 , -0.57369368, -1.19119591, ...,  0.64259497,\n",
       "        -1.03227043,  1.48533467],\n",
       "       ...,\n",
       "       [-0.5698444 , -0.57369368,  0.9015152 , ...,  0.64259497,\n",
       "        -1.03227043,  1.41231994],\n",
       "       [-0.5698444 ,  1.74309049, -0.62420521, ...,  0.64259497,\n",
       "         0.9687384 ,  0.84432121],\n",
       "       [ 1.75486502, -0.57369368, -0.28401079, ...,  0.64259497,\n",
       "        -1.03227043,  0.32472465]])"
      ]
     },
     "execution_count": 32,
     "metadata": {
      "tags": []
     },
     "output_type": "execute_result"
    }
   ],
   "source": [
    "X_train"
   ]
  },
  {
   "cell_type": "markdown",
   "metadata": {
    "colab_type": "text",
    "id": "-UBAdIn7Ir-y"
   },
   "source": [
    "# Building the neural network"
   ]
  },
  {
   "cell_type": "code",
   "execution_count": 0,
   "metadata": {
    "colab": {},
    "colab_type": "code",
    "id": "GRRhEVwoAZkJ"
   },
   "outputs": [],
   "source": [
    "from keras.models import Sequential\n",
    "from keras.layers import Dense"
   ]
  },
  {
   "cell_type": "markdown",
   "metadata": {
    "colab_type": "text",
    "id": "lf58arlHJBrs"
   },
   "source": [
    "Initialising the ANN"
   ]
  },
  {
   "cell_type": "code",
   "execution_count": 0,
   "metadata": {
    "colab": {},
    "colab_type": "code",
    "id": "QJ_eWIEXGoWl"
   },
   "outputs": [],
   "source": [
    "#initialising the ANN\n",
    "#this neural network is a classifier \n",
    "classifier=Sequential()\n"
   ]
  },
  {
   "cell_type": "markdown",
   "metadata": {
    "colab_type": "text",
    "id": "-78SM07-JG83"
   },
   "source": [
    "Designing the neural network"
   ]
  },
  {
   "cell_type": "code",
   "execution_count": 37,
   "metadata": {
    "colab": {
     "base_uri": "https://localhost:8080/",
     "height": 70
    },
    "colab_type": "code",
    "id": "MXd5IppVGkDn",
    "outputId": "ef1a678f-d2fe-40a1-c18b-31cc41d1d8e9"
   },
   "outputs": [
    {
     "name": "stderr",
     "output_type": "stream",
     "text": [
      "/usr/local/lib/python3.6/dist-packages/ipykernel_launcher.py:1: UserWarning: Update your `Dense` call to the Keras 2 API: `Dense(activation=\"relu\", input_dim=11, units=6, kernel_initializer=\"uniform\")`\n",
      "  \"\"\"Entry point for launching an IPython kernel.\n"
     ]
    }
   ],
   "source": [
    "#Adding the input layer and hidden layer \n",
    "#parameter tuning (k-fold cross validation)\n",
    "classifier.add(Dense(output_dim=6,init='uniform',activation='relu',input_dim=11))"
   ]
  },
  {
   "cell_type": "code",
   "execution_count": 38,
   "metadata": {
    "colab": {
     "base_uri": "https://localhost:8080/",
     "height": 70
    },
    "colab_type": "code",
    "id": "c4Tw1P1cO3j0",
    "outputId": "1d76c1b3-0a66-452c-eae2-eb74b34b3bee"
   },
   "outputs": [
    {
     "name": "stderr",
     "output_type": "stream",
     "text": [
      "/usr/local/lib/python3.6/dist-packages/ipykernel_launcher.py:1: UserWarning: Update your `Dense` call to the Keras 2 API: `Dense(activation=\"relu\", units=6, kernel_initializer=\"uniform\")`\n",
      "  \"\"\"Entry point for launching an IPython kernel.\n"
     ]
    }
   ],
   "source": [
    "#Adding another hidden layer\n",
    "classifier.add(Dense(output_dim=6,init='uniform',activation='relu'))"
   ]
  },
  {
   "cell_type": "code",
   "execution_count": 39,
   "metadata": {
    "colab": {
     "base_uri": "https://localhost:8080/",
     "height": 70
    },
    "colab_type": "code",
    "id": "R5vzdaC0Q1Vj",
    "outputId": "d209587a-47ae-4b92-a602-fc4a0887beff"
   },
   "outputs": [
    {
     "name": "stderr",
     "output_type": "stream",
     "text": [
      "/usr/local/lib/python3.6/dist-packages/ipykernel_launcher.py:1: UserWarning: Update your `Dense` call to the Keras 2 API: `Dense(activation=\"sigmoid\", units=1, kernel_initializer=\"uniform\")`\n",
      "  \"\"\"Entry point for launching an IPython kernel.\n"
     ]
    }
   ],
   "source": [
    "#adding output layer, using sigmoid or softmax as activation function\n",
    "classifier.add(Dense(output_dim=1,init='uniform',activation='sigmoid'))\n",
    "#if output categories are 3, then output_dim is 3 and activation function is softmax\n"
   ]
  },
  {
   "cell_type": "code",
   "execution_count": 0,
   "metadata": {
    "colab": {},
    "colab_type": "code",
    "id": "UX8r6Qnzv7ja"
   },
   "outputs": [],
   "source": [
    "#Applying SGD on the ANN and compiling it \n",
    "classifier.compile(optimizer='adam',loss='binary_crossentropy',metrics=['accuracy'])#metrics are used to improve the model"
   ]
  },
  {
   "cell_type": "markdown",
   "metadata": {
    "colab_type": "text",
    "id": "YhXs5cBdJNCD"
   },
   "source": [
    "Training the neural network"
   ]
  },
  {
   "cell_type": "code",
   "execution_count": 42,
   "metadata": {
    "colab": {
     "base_uri": "https://localhost:8080/",
     "height": 1000
    },
    "colab_type": "code",
    "id": "uZUcuMZP1b9u",
    "outputId": "188499b0-a7d8-48f5-c431-f42e5fa65a57"
   },
   "outputs": [
    {
     "name": "stdout",
     "output_type": "stream",
     "text": [
      "Epoch 1/100\n",
      "8000/8000 [==============================] - 1s 159us/step - loss: 0.4881 - accuracy: 0.7958\n",
      "Epoch 2/100\n",
      "8000/8000 [==============================] - 1s 105us/step - loss: 0.4269 - accuracy: 0.7960\n",
      "Epoch 3/100\n",
      "8000/8000 [==============================] - 1s 104us/step - loss: 0.4213 - accuracy: 0.8004\n",
      "Epoch 4/100\n",
      "8000/8000 [==============================] - 1s 105us/step - loss: 0.4176 - accuracy: 0.8234\n",
      "Epoch 5/100\n",
      "8000/8000 [==============================] - 1s 113us/step - loss: 0.4156 - accuracy: 0.8267\n",
      "Epoch 6/100\n",
      "8000/8000 [==============================] - 1s 111us/step - loss: 0.4138 - accuracy: 0.8310\n",
      "Epoch 7/100\n",
      "8000/8000 [==============================] - 1s 106us/step - loss: 0.4123 - accuracy: 0.8321\n",
      "Epoch 8/100\n",
      "8000/8000 [==============================] - 1s 106us/step - loss: 0.4115 - accuracy: 0.8324\n",
      "Epoch 9/100\n",
      "8000/8000 [==============================] - 1s 104us/step - loss: 0.4102 - accuracy: 0.8319\n",
      "Epoch 10/100\n",
      "8000/8000 [==============================] - 1s 105us/step - loss: 0.4093 - accuracy: 0.8336\n",
      "Epoch 11/100\n",
      "8000/8000 [==============================] - 1s 103us/step - loss: 0.4089 - accuracy: 0.8351\n",
      "Epoch 12/100\n",
      "8000/8000 [==============================] - 1s 109us/step - loss: 0.4076 - accuracy: 0.8339\n",
      "Epoch 13/100\n",
      "8000/8000 [==============================] - 1s 111us/step - loss: 0.4074 - accuracy: 0.8347\n",
      "Epoch 14/100\n",
      "8000/8000 [==============================] - 1s 112us/step - loss: 0.4068 - accuracy: 0.8340\n",
      "Epoch 15/100\n",
      "8000/8000 [==============================] - 1s 106us/step - loss: 0.4064 - accuracy: 0.8339\n",
      "Epoch 16/100\n",
      "8000/8000 [==============================] - 1s 104us/step - loss: 0.4060 - accuracy: 0.8354\n",
      "Epoch 17/100\n",
      "8000/8000 [==============================] - 1s 107us/step - loss: 0.4059 - accuracy: 0.8347\n",
      "Epoch 18/100\n",
      "8000/8000 [==============================] - 1s 103us/step - loss: 0.4054 - accuracy: 0.8336\n",
      "Epoch 19/100\n",
      "8000/8000 [==============================] - 1s 114us/step - loss: 0.4049 - accuracy: 0.8344\n",
      "Epoch 20/100\n",
      "8000/8000 [==============================] - 1s 114us/step - loss: 0.4049 - accuracy: 0.8347\n",
      "Epoch 21/100\n",
      "8000/8000 [==============================] - 1s 112us/step - loss: 0.4043 - accuracy: 0.8354\n",
      "Epoch 22/100\n",
      "8000/8000 [==============================] - 1s 118us/step - loss: 0.4042 - accuracy: 0.8336\n",
      "Epoch 23/100\n",
      "8000/8000 [==============================] - 1s 107us/step - loss: 0.4042 - accuracy: 0.8361\n",
      "Epoch 24/100\n",
      "8000/8000 [==============================] - 1s 105us/step - loss: 0.4038 - accuracy: 0.8338\n",
      "Epoch 25/100\n",
      "8000/8000 [==============================] - 1s 118us/step - loss: 0.4041 - accuracy: 0.8361\n",
      "Epoch 26/100\n",
      "8000/8000 [==============================] - 1s 122us/step - loss: 0.4038 - accuracy: 0.8361\n",
      "Epoch 27/100\n",
      "8000/8000 [==============================] - 1s 115us/step - loss: 0.4037 - accuracy: 0.8346\n",
      "Epoch 28/100\n",
      "8000/8000 [==============================] - 1s 103us/step - loss: 0.4033 - accuracy: 0.8360\n",
      "Epoch 29/100\n",
      "8000/8000 [==============================] - 1s 113us/step - loss: 0.4029 - accuracy: 0.8347\n",
      "Epoch 30/100\n",
      "8000/8000 [==============================] - 1s 111us/step - loss: 0.4036 - accuracy: 0.8355\n",
      "Epoch 31/100\n",
      "8000/8000 [==============================] - 1s 110us/step - loss: 0.4029 - accuracy: 0.8364\n",
      "Epoch 32/100\n",
      "8000/8000 [==============================] - 1s 105us/step - loss: 0.4030 - accuracy: 0.8350\n",
      "Epoch 33/100\n",
      "8000/8000 [==============================] - 1s 118us/step - loss: 0.4029 - accuracy: 0.8347\n",
      "Epoch 34/100\n",
      "8000/8000 [==============================] - 1s 106us/step - loss: 0.4026 - accuracy: 0.8349\n",
      "Epoch 35/100\n",
      "8000/8000 [==============================] - 1s 113us/step - loss: 0.4027 - accuracy: 0.8369\n",
      "Epoch 36/100\n",
      "8000/8000 [==============================] - 1s 117us/step - loss: 0.4024 - accuracy: 0.8354\n",
      "Epoch 37/100\n",
      "8000/8000 [==============================] - 1s 103us/step - loss: 0.4028 - accuracy: 0.8341\n",
      "Epoch 38/100\n",
      "8000/8000 [==============================] - 1s 106us/step - loss: 0.4027 - accuracy: 0.8347\n",
      "Epoch 39/100\n",
      "8000/8000 [==============================] - 1s 105us/step - loss: 0.4023 - accuracy: 0.8359\n",
      "Epoch 40/100\n",
      "8000/8000 [==============================] - 1s 105us/step - loss: 0.4024 - accuracy: 0.8356\n",
      "Epoch 41/100\n",
      "8000/8000 [==============================] - 1s 109us/step - loss: 0.4023 - accuracy: 0.8349\n",
      "Epoch 42/100\n",
      "8000/8000 [==============================] - 1s 106us/step - loss: 0.4022 - accuracy: 0.8340\n",
      "Epoch 43/100\n",
      "8000/8000 [==============================] - 1s 112us/step - loss: 0.4020 - accuracy: 0.8342\n",
      "Epoch 44/100\n",
      "8000/8000 [==============================] - 1s 117us/step - loss: 0.4023 - accuracy: 0.8357\n",
      "Epoch 45/100\n",
      "8000/8000 [==============================] - 1s 110us/step - loss: 0.4022 - accuracy: 0.8357\n",
      "Epoch 46/100\n",
      "8000/8000 [==============================] - 1s 108us/step - loss: 0.4021 - accuracy: 0.8356\n",
      "Epoch 47/100\n",
      "8000/8000 [==============================] - 1s 106us/step - loss: 0.4021 - accuracy: 0.8344\n",
      "Epoch 48/100\n",
      "8000/8000 [==============================] - 1s 106us/step - loss: 0.4019 - accuracy: 0.8351\n",
      "Epoch 49/100\n",
      "8000/8000 [==============================] - 1s 107us/step - loss: 0.4021 - accuracy: 0.8347\n",
      "Epoch 50/100\n",
      "8000/8000 [==============================] - 1s 115us/step - loss: 0.4020 - accuracy: 0.8340\n",
      "Epoch 51/100\n",
      "8000/8000 [==============================] - 1s 107us/step - loss: 0.4019 - accuracy: 0.8349\n",
      "Epoch 52/100\n",
      "8000/8000 [==============================] - 1s 105us/step - loss: 0.4019 - accuracy: 0.8363\n",
      "Epoch 53/100\n",
      "8000/8000 [==============================] - 1s 103us/step - loss: 0.4014 - accuracy: 0.8350\n",
      "Epoch 54/100\n",
      "8000/8000 [==============================] - 1s 105us/step - loss: 0.4016 - accuracy: 0.8370\n",
      "Epoch 55/100\n",
      "8000/8000 [==============================] - 1s 104us/step - loss: 0.4020 - accuracy: 0.8336\n",
      "Epoch 56/100\n",
      "8000/8000 [==============================] - 1s 104us/step - loss: 0.4023 - accuracy: 0.8347\n",
      "Epoch 57/100\n",
      "8000/8000 [==============================] - 1s 106us/step - loss: 0.4015 - accuracy: 0.8359\n",
      "Epoch 58/100\n",
      "8000/8000 [==============================] - 1s 114us/step - loss: 0.4018 - accuracy: 0.8344\n",
      "Epoch 59/100\n",
      "8000/8000 [==============================] - 1s 106us/step - loss: 0.4014 - accuracy: 0.8347\n",
      "Epoch 60/100\n",
      "8000/8000 [==============================] - 1s 105us/step - loss: 0.4015 - accuracy: 0.8328\n",
      "Epoch 61/100\n",
      "8000/8000 [==============================] - 1s 121us/step - loss: 0.4014 - accuracy: 0.8354\n",
      "Epoch 62/100\n",
      "8000/8000 [==============================] - 1s 110us/step - loss: 0.4011 - accuracy: 0.8347\n",
      "Epoch 63/100\n",
      "8000/8000 [==============================] - 1s 106us/step - loss: 0.4016 - accuracy: 0.8345\n",
      "Epoch 64/100\n",
      "8000/8000 [==============================] - 1s 103us/step - loss: 0.4011 - accuracy: 0.8351\n",
      "Epoch 65/100\n",
      "8000/8000 [==============================] - 1s 108us/step - loss: 0.4018 - accuracy: 0.8350\n",
      "Epoch 66/100\n",
      "8000/8000 [==============================] - 1s 106us/step - loss: 0.4012 - accuracy: 0.8344\n",
      "Epoch 67/100\n",
      "8000/8000 [==============================] - 1s 102us/step - loss: 0.4014 - accuracy: 0.8357\n",
      "Epoch 68/100\n",
      "8000/8000 [==============================] - 1s 112us/step - loss: 0.4008 - accuracy: 0.8335\n",
      "Epoch 69/100\n",
      "8000/8000 [==============================] - 1s 114us/step - loss: 0.4016 - accuracy: 0.8361\n",
      "Epoch 70/100\n",
      "8000/8000 [==============================] - 1s 103us/step - loss: 0.4014 - accuracy: 0.8357\n",
      "Epoch 71/100\n",
      "8000/8000 [==============================] - 1s 105us/step - loss: 0.4011 - accuracy: 0.8359\n",
      "Epoch 72/100\n",
      "8000/8000 [==============================] - 1s 105us/step - loss: 0.4018 - accuracy: 0.8339\n",
      "Epoch 73/100\n",
      "8000/8000 [==============================] - 1s 107us/step - loss: 0.4012 - accuracy: 0.8351\n",
      "Epoch 74/100\n",
      "8000/8000 [==============================] - 1s 106us/step - loss: 0.4014 - accuracy: 0.8366\n",
      "Epoch 75/100\n",
      "8000/8000 [==============================] - 1s 105us/step - loss: 0.4011 - accuracy: 0.8369\n",
      "Epoch 76/100\n",
      "8000/8000 [==============================] - 1s 111us/step - loss: 0.4012 - accuracy: 0.8339\n",
      "Epoch 77/100\n",
      "8000/8000 [==============================] - 1s 105us/step - loss: 0.4016 - accuracy: 0.8360\n",
      "Epoch 78/100\n",
      "8000/8000 [==============================] - 1s 105us/step - loss: 0.4012 - accuracy: 0.8342\n",
      "Epoch 79/100\n",
      "8000/8000 [==============================] - 1s 104us/step - loss: 0.4016 - accuracy: 0.8349\n",
      "Epoch 80/100\n",
      "8000/8000 [==============================] - 1s 118us/step - loss: 0.4015 - accuracy: 0.8340\n",
      "Epoch 81/100\n",
      "8000/8000 [==============================] - 1s 108us/step - loss: 0.4014 - accuracy: 0.8350\n",
      "Epoch 82/100\n",
      "8000/8000 [==============================] - 1s 106us/step - loss: 0.4013 - accuracy: 0.8345\n",
      "Epoch 83/100\n",
      "8000/8000 [==============================] - 1s 105us/step - loss: 0.4013 - accuracy: 0.8360\n",
      "Epoch 84/100\n",
      "8000/8000 [==============================] - 1s 106us/step - loss: 0.4014 - accuracy: 0.8341\n",
      "Epoch 85/100\n",
      "8000/8000 [==============================] - 1s 118us/step - loss: 0.4013 - accuracy: 0.8360\n",
      "Epoch 86/100\n",
      "8000/8000 [==============================] - 1s 105us/step - loss: 0.4018 - accuracy: 0.8353\n",
      "Epoch 87/100\n",
      "8000/8000 [==============================] - 1s 104us/step - loss: 0.4013 - accuracy: 0.8345\n",
      "Epoch 88/100\n",
      "8000/8000 [==============================] - 1s 105us/step - loss: 0.4008 - accuracy: 0.8351\n",
      "Epoch 89/100\n",
      "8000/8000 [==============================] - 1s 106us/step - loss: 0.4010 - accuracy: 0.8355\n",
      "Epoch 90/100\n",
      "8000/8000 [==============================] - 1s 105us/step - loss: 0.4013 - accuracy: 0.8353\n",
      "Epoch 91/100\n",
      "8000/8000 [==============================] - 1s 106us/step - loss: 0.4014 - accuracy: 0.8336\n",
      "Epoch 92/100\n",
      "8000/8000 [==============================] - 1s 106us/step - loss: 0.4016 - accuracy: 0.8349\n",
      "Epoch 93/100\n",
      "8000/8000 [==============================] - 1s 107us/step - loss: 0.4016 - accuracy: 0.8350\n",
      "Epoch 94/100\n",
      "8000/8000 [==============================] - 1s 124us/step - loss: 0.4013 - accuracy: 0.8345\n",
      "Epoch 95/100\n",
      "8000/8000 [==============================] - 1s 104us/step - loss: 0.4014 - accuracy: 0.8347\n",
      "Epoch 96/100\n",
      "8000/8000 [==============================] - 1s 114us/step - loss: 0.4005 - accuracy: 0.8335\n",
      "Epoch 97/100\n",
      "8000/8000 [==============================] - 1s 109us/step - loss: 0.4007 - accuracy: 0.8345\n",
      "Epoch 98/100\n",
      "8000/8000 [==============================] - 1s 105us/step - loss: 0.4011 - accuracy: 0.8369\n",
      "Epoch 99/100\n",
      "8000/8000 [==============================] - 1s 106us/step - loss: 0.4012 - accuracy: 0.8349\n",
      "Epoch 100/100\n",
      "8000/8000 [==============================] - 1s 107us/step - loss: 0.4012 - accuracy: 0.8354\n"
     ]
    },
    {
     "data": {
      "text/plain": [
       "<keras.callbacks.callbacks.History at 0x7fe21b5bd470>"
      ]
     },
     "execution_count": 42,
     "metadata": {
      "tags": []
     },
     "output_type": "execute_result"
    }
   ],
   "source": [
    "classifier.fit(X_train,y_train,batch_size=10,epochs= 100)\n"
   ]
  },
  {
   "cell_type": "markdown",
   "metadata": {
    "colab_type": "text",
    "id": "LCH2h_srJTBO"
   },
   "source": [
    "# Making Predictions"
   ]
  },
  {
   "cell_type": "code",
   "execution_count": 44,
   "metadata": {
    "colab": {
     "base_uri": "https://localhost:8080/",
     "height": 134
    },
    "colab_type": "code",
    "id": "tIi6EARg4FO4",
    "outputId": "9f572b45-93ec-4976-82d6-166941eff044"
   },
   "outputs": [
    {
     "data": {
      "text/plain": [
       "array([[0.23821467],\n",
       "       [0.37632686],\n",
       "       [0.19036964],\n",
       "       ...,\n",
       "       [0.20995718],\n",
       "       [0.18861622],\n",
       "       [0.12805504]], dtype=float32)"
      ]
     },
     "execution_count": 44,
     "metadata": {
      "tags": []
     },
     "output_type": "execute_result"
    }
   ],
   "source": [
    "# making the final predictions\n",
    "y_pred=classifier.predict(X_test)\n",
    "y_pred"
   ]
  },
  {
   "cell_type": "markdown",
   "metadata": {
    "colab_type": "text",
    "id": "KxXlmodlHHeN"
   },
   "source": [
    "### **Conclusion:**Each entry in the array y_pred represents the probability of a person leaving the bank, example, first person has 24% of leaving the bank.The higher the probability the higher are the chances that the person has left the bank . We can also calculate the accuracy of the model on the test set using confusion matrix."
   ]
  }
 ],
 "metadata": {
  "colab": {
   "collapsed_sections": [
    "-UBAdIn7Ir-y",
    "LCH2h_srJTBO"
   ],
   "name": "ANN.ipynb",
   "provenance": [],
   "toc_visible": true
  },
  "kernelspec": {
   "display_name": "Python 3",
   "language": "python",
   "name": "python3"
  },
  "language_info": {
   "codemirror_mode": {
    "name": "ipython",
    "version": 3
   },
   "file_extension": ".py",
   "mimetype": "text/x-python",
   "name": "python",
   "nbconvert_exporter": "python",
   "pygments_lexer": "ipython3",
   "version": "3.6.5"
  }
 },
 "nbformat": 4,
 "nbformat_minor": 1
}
