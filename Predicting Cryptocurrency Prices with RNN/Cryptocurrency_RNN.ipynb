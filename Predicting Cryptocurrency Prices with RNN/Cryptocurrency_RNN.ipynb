{
  "nbformat": 4,
  "nbformat_minor": 0,
  "metadata": {
    "colab": {
      "name": "Cryptocurrency-RNN.ipynb",
      "provenance": [],
      "collapsed_sections": []
    },
    "kernelspec": {
      "name": "python3",
      "display_name": "Python 3"
    },
    "accelerator": "GPU"
  },
  "cells": [
    {
      "cell_type": "code",
      "metadata": {
        "id": "uJrW4AmQV6nY",
        "colab_type": "code",
        "outputId": "3b4472fc-9dc4-498b-ad75-15f06e68d43d",
        "colab": {
          "resources": {
            "http://localhost:8080/nbextensions/google.colab/files.js": {
              "data": "Ly8gQ29weXJpZ2h0IDIwMTcgR29vZ2xlIExMQwovLwovLyBMaWNlbnNlZCB1bmRlciB0aGUgQXBhY2hlIExpY2Vuc2UsIFZlcnNpb24gMi4wICh0aGUgIkxpY2Vuc2UiKTsKLy8geW91IG1heSBub3QgdXNlIHRoaXMgZmlsZSBleGNlcHQgaW4gY29tcGxpYW5jZSB3aXRoIHRoZSBMaWNlbnNlLgovLyBZb3UgbWF5IG9idGFpbiBhIGNvcHkgb2YgdGhlIExpY2Vuc2UgYXQKLy8KLy8gICAgICBodHRwOi8vd3d3LmFwYWNoZS5vcmcvbGljZW5zZXMvTElDRU5TRS0yLjAKLy8KLy8gVW5sZXNzIHJlcXVpcmVkIGJ5IGFwcGxpY2FibGUgbGF3IG9yIGFncmVlZCB0byBpbiB3cml0aW5nLCBzb2Z0d2FyZQovLyBkaXN0cmlidXRlZCB1bmRlciB0aGUgTGljZW5zZSBpcyBkaXN0cmlidXRlZCBvbiBhbiAiQVMgSVMiIEJBU0lTLAovLyBXSVRIT1VUIFdBUlJBTlRJRVMgT1IgQ09ORElUSU9OUyBPRiBBTlkgS0lORCwgZWl0aGVyIGV4cHJlc3Mgb3IgaW1wbGllZC4KLy8gU2VlIHRoZSBMaWNlbnNlIGZvciB0aGUgc3BlY2lmaWMgbGFuZ3VhZ2UgZ292ZXJuaW5nIHBlcm1pc3Npb25zIGFuZAovLyBsaW1pdGF0aW9ucyB1bmRlciB0aGUgTGljZW5zZS4KCi8qKgogKiBAZmlsZW92ZXJ2aWV3IEhlbHBlcnMgZm9yIGdvb2dsZS5jb2xhYiBQeXRob24gbW9kdWxlLgogKi8KKGZ1bmN0aW9uKHNjb3BlKSB7CmZ1bmN0aW9uIHNwYW4odGV4dCwgc3R5bGVBdHRyaWJ1dGVzID0ge30pIHsKICBjb25zdCBlbGVtZW50ID0gZG9jdW1lbnQuY3JlYXRlRWxlbWVudCgnc3BhbicpOwogIGVsZW1lbnQudGV4dENvbnRlbnQgPSB0ZXh0OwogIGZvciAoY29uc3Qga2V5IG9mIE9iamVjdC5rZXlzKHN0eWxlQXR0cmlidXRlcykpIHsKICAgIGVsZW1lbnQuc3R5bGVba2V5XSA9IHN0eWxlQXR0cmlidXRlc1trZXldOwogIH0KICByZXR1cm4gZWxlbWVudDsKfQoKLy8gTWF4IG51bWJlciBvZiBieXRlcyB3aGljaCB3aWxsIGJlIHVwbG9hZGVkIGF0IGEgdGltZS4KY29uc3QgTUFYX1BBWUxPQURfU0laRSA9IDEwMCAqIDEwMjQ7Ci8vIE1heCBhbW91bnQgb2YgdGltZSB0byBibG9jayB3YWl0aW5nIGZvciB0aGUgdXNlci4KY29uc3QgRklMRV9DSEFOR0VfVElNRU9VVF9NUyA9IDMwICogMTAwMDsKCmZ1bmN0aW9uIF91cGxvYWRGaWxlcyhpbnB1dElkLCBvdXRwdXRJZCkgewogIGNvbnN0IHN0ZXBzID0gdXBsb2FkRmlsZXNTdGVwKGlucHV0SWQsIG91dHB1dElkKTsKICBjb25zdCBvdXRwdXRFbGVtZW50ID0gZG9jdW1lbnQuZ2V0RWxlbWVudEJ5SWQob3V0cHV0SWQpOwogIC8vIENhY2hlIHN0ZXBzIG9uIHRoZSBvdXRwdXRFbGVtZW50IHRvIG1ha2UgaXQgYXZhaWxhYmxlIGZvciB0aGUgbmV4dCBjYWxsCiAgLy8gdG8gdXBsb2FkRmlsZXNDb250aW51ZSBmcm9tIFB5dGhvbi4KICBvdXRwdXRFbGVtZW50LnN0ZXBzID0gc3RlcHM7CgogIHJldHVybiBfdXBsb2FkRmlsZXNDb250aW51ZShvdXRwdXRJZCk7Cn0KCi8vIFRoaXMgaXMgcm91Z2hseSBhbiBhc3luYyBnZW5lcmF0b3IgKG5vdCBzdXBwb3J0ZWQgaW4gdGhlIGJyb3dzZXIgeWV0KSwKLy8gd2hlcmUgdGhlcmUgYXJlIG11bHRpcGxlIGFzeW5jaHJvbm91cyBzdGVwcyBhbmQgdGhlIFB5dGhvbiBzaWRlIGlzIGdvaW5nCi8vIHRvIHBvbGwgZm9yIGNvbXBsZXRpb24gb2YgZWFjaCBzdGVwLgovLyBUaGlzIHVzZXMgYSBQcm9taXNlIHRvIGJsb2NrIHRoZSBweXRob24gc2lkZSBvbiBjb21wbGV0aW9uIG9mIGVhY2ggc3RlcCwKLy8gdGhlbiBwYXNzZXMgdGhlIHJlc3VsdCBvZiB0aGUgcHJldmlvdXMgc3RlcCBhcyB0aGUgaW5wdXQgdG8gdGhlIG5leHQgc3RlcC4KZnVuY3Rpb24gX3VwbG9hZEZpbGVzQ29udGludWUob3V0cHV0SWQpIHsKICBjb25zdCBvdXRwdXRFbGVtZW50ID0gZG9jdW1lbnQuZ2V0RWxlbWVudEJ5SWQob3V0cHV0SWQpOwogIGNvbnN0IHN0ZXBzID0gb3V0cHV0RWxlbWVudC5zdGVwczsKCiAgY29uc3QgbmV4dCA9IHN0ZXBzLm5leHQob3V0cHV0RWxlbWVudC5sYXN0UHJvbWlzZVZhbHVlKTsKICByZXR1cm4gUHJvbWlzZS5yZXNvbHZlKG5leHQudmFsdWUucHJvbWlzZSkudGhlbigodmFsdWUpID0+IHsKICAgIC8vIENhY2hlIHRoZSBsYXN0IHByb21pc2UgdmFsdWUgdG8gbWFrZSBpdCBhdmFpbGFibGUgdG8gdGhlIG5leHQKICAgIC8vIHN0ZXAgb2YgdGhlIGdlbmVyYXRvci4KICAgIG91dHB1dEVsZW1lbnQubGFzdFByb21pc2VWYWx1ZSA9IHZhbHVlOwogICAgcmV0dXJuIG5leHQudmFsdWUucmVzcG9uc2U7CiAgfSk7Cn0KCi8qKgogKiBHZW5lcmF0b3IgZnVuY3Rpb24gd2hpY2ggaXMgY2FsbGVkIGJldHdlZW4gZWFjaCBhc3luYyBzdGVwIG9mIHRoZSB1cGxvYWQKICogcHJvY2Vzcy4KICogQHBhcmFtIHtzdHJpbmd9IGlucHV0SWQgRWxlbWVudCBJRCBvZiB0aGUgaW5wdXQgZmlsZSBwaWNrZXIgZWxlbWVudC4KICogQHBhcmFtIHtzdHJpbmd9IG91dHB1dElkIEVsZW1lbnQgSUQgb2YgdGhlIG91dHB1dCBkaXNwbGF5LgogKiBAcmV0dXJuIHshSXRlcmFibGU8IU9iamVjdD59IEl0ZXJhYmxlIG9mIG5leHQgc3RlcHMuCiAqLwpmdW5jdGlvbiogdXBsb2FkRmlsZXNTdGVwKGlucHV0SWQsIG91dHB1dElkKSB7CiAgY29uc3QgaW5wdXRFbGVtZW50ID0gZG9jdW1lbnQuZ2V0RWxlbWVudEJ5SWQoaW5wdXRJZCk7CiAgaW5wdXRFbGVtZW50LmRpc2FibGVkID0gZmFsc2U7CgogIGNvbnN0IG91dHB1dEVsZW1lbnQgPSBkb2N1bWVudC5nZXRFbGVtZW50QnlJZChvdXRwdXRJZCk7CiAgb3V0cHV0RWxlbWVudC5pbm5lckhUTUwgPSAnJzsKCiAgY29uc3QgcGlja2VkUHJvbWlzZSA9IG5ldyBQcm9taXNlKChyZXNvbHZlKSA9PiB7CiAgICBpbnB1dEVsZW1lbnQuYWRkRXZlbnRMaXN0ZW5lcignY2hhbmdlJywgKGUpID0+IHsKICAgICAgcmVzb2x2ZShlLnRhcmdldC5maWxlcyk7CiAgICB9KTsKICB9KTsKCiAgY29uc3QgY2FuY2VsID0gZG9jdW1lbnQuY3JlYXRlRWxlbWVudCgnYnV0dG9uJyk7CiAgaW5wdXRFbGVtZW50LnBhcmVudEVsZW1lbnQuYXBwZW5kQ2hpbGQoY2FuY2VsKTsKICBjYW5jZWwudGV4dENvbnRlbnQgPSAnQ2FuY2VsIHVwbG9hZCc7CiAgY29uc3QgY2FuY2VsUHJvbWlzZSA9IG5ldyBQcm9taXNlKChyZXNvbHZlKSA9PiB7CiAgICBjYW5jZWwub25jbGljayA9ICgpID0+IHsKICAgICAgcmVzb2x2ZShudWxsKTsKICAgIH07CiAgfSk7CgogIC8vIENhbmNlbCB1cGxvYWQgaWYgdXNlciBoYXNuJ3QgcGlja2VkIGFueXRoaW5nIGluIHRpbWVvdXQuCiAgY29uc3QgdGltZW91dFByb21pc2UgPSBuZXcgUHJvbWlzZSgocmVzb2x2ZSkgPT4gewogICAgc2V0VGltZW91dCgoKSA9PiB7CiAgICAgIHJlc29sdmUobnVsbCk7CiAgICB9LCBGSUxFX0NIQU5HRV9USU1FT1VUX01TKTsKICB9KTsKCiAgLy8gV2FpdCBmb3IgdGhlIHVzZXIgdG8gcGljayB0aGUgZmlsZXMuCiAgY29uc3QgZmlsZXMgPSB5aWVsZCB7CiAgICBwcm9taXNlOiBQcm9taXNlLnJhY2UoW3BpY2tlZFByb21pc2UsIHRpbWVvdXRQcm9taXNlLCBjYW5jZWxQcm9taXNlXSksCiAgICByZXNwb25zZTogewogICAgICBhY3Rpb246ICdzdGFydGluZycsCiAgICB9CiAgfTsKCiAgaWYgKCFmaWxlcykgewogICAgcmV0dXJuIHsKICAgICAgcmVzcG9uc2U6IHsKICAgICAgICBhY3Rpb246ICdjb21wbGV0ZScsCiAgICAgIH0KICAgIH07CiAgfQoKICBjYW5jZWwucmVtb3ZlKCk7CgogIC8vIERpc2FibGUgdGhlIGlucHV0IGVsZW1lbnQgc2luY2UgZnVydGhlciBwaWNrcyBhcmUgbm90IGFsbG93ZWQuCiAgaW5wdXRFbGVtZW50LmRpc2FibGVkID0gdHJ1ZTsKCiAgZm9yIChjb25zdCBmaWxlIG9mIGZpbGVzKSB7CiAgICBjb25zdCBsaSA9IGRvY3VtZW50LmNyZWF0ZUVsZW1lbnQoJ2xpJyk7CiAgICBsaS5hcHBlbmQoc3BhbihmaWxlLm5hbWUsIHtmb250V2VpZ2h0OiAnYm9sZCd9KSk7CiAgICBsaS5hcHBlbmQoc3BhbigKICAgICAgICBgKCR7ZmlsZS50eXBlIHx8ICduL2EnfSkgLSAke2ZpbGUuc2l6ZX0gYnl0ZXMsIGAgKwogICAgICAgIGBsYXN0IG1vZGlmaWVkOiAkewogICAgICAgICAgICBmaWxlLmxhc3RNb2RpZmllZERhdGUgPyBmaWxlLmxhc3RNb2RpZmllZERhdGUudG9Mb2NhbGVEYXRlU3RyaW5nKCkgOgogICAgICAgICAgICAgICAgICAgICAgICAgICAgICAgICAgICAnbi9hJ30gLSBgKSk7CiAgICBjb25zdCBwZXJjZW50ID0gc3BhbignMCUgZG9uZScpOwogICAgbGkuYXBwZW5kQ2hpbGQocGVyY2VudCk7CgogICAgb3V0cHV0RWxlbWVudC5hcHBlbmRDaGlsZChsaSk7CgogICAgY29uc3QgZmlsZURhdGFQcm9taXNlID0gbmV3IFByb21pc2UoKHJlc29sdmUpID0+IHsKICAgICAgY29uc3QgcmVhZGVyID0gbmV3IEZpbGVSZWFkZXIoKTsKICAgICAgcmVhZGVyLm9ubG9hZCA9IChlKSA9PiB7CiAgICAgICAgcmVzb2x2ZShlLnRhcmdldC5yZXN1bHQpOwogICAgICB9OwogICAgICByZWFkZXIucmVhZEFzQXJyYXlCdWZmZXIoZmlsZSk7CiAgICB9KTsKICAgIC8vIFdhaXQgZm9yIHRoZSBkYXRhIHRvIGJlIHJlYWR5LgogICAgbGV0IGZpbGVEYXRhID0geWllbGQgewogICAgICBwcm9taXNlOiBmaWxlRGF0YVByb21pc2UsCiAgICAgIHJlc3BvbnNlOiB7CiAgICAgICAgYWN0aW9uOiAnY29udGludWUnLAogICAgICB9CiAgICB9OwoKICAgIC8vIFVzZSBhIGNodW5rZWQgc2VuZGluZyB0byBhdm9pZCBtZXNzYWdlIHNpemUgbGltaXRzLiBTZWUgYi82MjExNTY2MC4KICAgIGxldCBwb3NpdGlvbiA9IDA7CiAgICB3aGlsZSAocG9zaXRpb24gPCBmaWxlRGF0YS5ieXRlTGVuZ3RoKSB7CiAgICAgIGNvbnN0IGxlbmd0aCA9IE1hdGgubWluKGZpbGVEYXRhLmJ5dGVMZW5ndGggLSBwb3NpdGlvbiwgTUFYX1BBWUxPQURfU0laRSk7CiAgICAgIGNvbnN0IGNodW5rID0gbmV3IFVpbnQ4QXJyYXkoZmlsZURhdGEsIHBvc2l0aW9uLCBsZW5ndGgpOwogICAgICBwb3NpdGlvbiArPSBsZW5ndGg7CgogICAgICBjb25zdCBiYXNlNjQgPSBidG9hKFN0cmluZy5mcm9tQ2hhckNvZGUuYXBwbHkobnVsbCwgY2h1bmspKTsKICAgICAgeWllbGQgewogICAgICAgIHJlc3BvbnNlOiB7CiAgICAgICAgICBhY3Rpb246ICdhcHBlbmQnLAogICAgICAgICAgZmlsZTogZmlsZS5uYW1lLAogICAgICAgICAgZGF0YTogYmFzZTY0LAogICAgICAgIH0sCiAgICAgIH07CiAgICAgIHBlcmNlbnQudGV4dENvbnRlbnQgPQogICAgICAgICAgYCR7TWF0aC5yb3VuZCgocG9zaXRpb24gLyBmaWxlRGF0YS5ieXRlTGVuZ3RoKSAqIDEwMCl9JSBkb25lYDsKICAgIH0KICB9CgogIC8vIEFsbCBkb25lLgogIHlpZWxkIHsKICAgIHJlc3BvbnNlOiB7CiAgICAgIGFjdGlvbjogJ2NvbXBsZXRlJywKICAgIH0KICB9Owp9CgpzY29wZS5nb29nbGUgPSBzY29wZS5nb29nbGUgfHwge307CnNjb3BlLmdvb2dsZS5jb2xhYiA9IHNjb3BlLmdvb2dsZS5jb2xhYiB8fCB7fTsKc2NvcGUuZ29vZ2xlLmNvbGFiLl9maWxlcyA9IHsKICBfdXBsb2FkRmlsZXMsCiAgX3VwbG9hZEZpbGVzQ29udGludWUsCn07Cn0pKHNlbGYpOwo=",
              "ok": true,
              "headers": [
                [
                  "content-type",
                  "application/javascript"
                ]
              ],
              "status": 200,
              "status_text": ""
            }
          },
          "base_uri": "https://localhost:8080/",
          "height": 175
        }
      },
      "source": [
        "from google.colab import files\n",
        "uploaded = files.upload()"
      ],
      "execution_count": 2,
      "outputs": [
        {
          "output_type": "display_data",
          "data": {
            "text/html": [
              "\n",
              "     <input type=\"file\" id=\"files-aa9e6465-0aac-413f-b82e-0c175e9fff07\" name=\"files[]\" multiple disabled />\n",
              "     <output id=\"result-aa9e6465-0aac-413f-b82e-0c175e9fff07\">\n",
              "      Upload widget is only available when the cell has been executed in the\n",
              "      current browser session. Please rerun this cell to enable.\n",
              "      </output>\n",
              "      <script src=\"/nbextensions/google.colab/files.js\"></script> "
            ],
            "text/plain": [
              "<IPython.core.display.HTML object>"
            ]
          },
          "metadata": {
            "tags": []
          }
        },
        {
          "output_type": "stream",
          "text": [
            "Saving BCH-USD.csv to BCH-USD.csv\n",
            "Saving BTC-USD.csv to BTC-USD.csv\n",
            "Saving ETH-USD.csv to ETH-USD.csv\n",
            "Saving LTC-USD.csv to LTC-USD.csv\n"
          ],
          "name": "stdout"
        }
      ]
    },
    {
      "cell_type": "code",
      "metadata": {
        "id": "rc0UF7K2aq4o",
        "colab_type": "code",
        "outputId": "8e147af8-b38a-4e9d-e08a-07c873303f11",
        "colab": {
          "base_uri": "https://localhost:8080/",
          "height": 50
        }
      },
      "source": [
        "!mkdir models\n",
        "!ls"
      ],
      "execution_count": 12,
      "outputs": [
        {
          "output_type": "stream",
          "text": [
            "mkdir: cannot create directory ‘models’: File exists\n",
            "BCH-USD.csv  BTC-USD.csv  ETH-USD.csv  LTC-USD.csv  models  sample_data\n"
          ],
          "name": "stdout"
        }
      ]
    },
    {
      "cell_type": "markdown",
      "metadata": {
        "id": "3YrBE11JWF0G",
        "colab_type": "text"
      },
      "source": [
        "#Importing dataset\n"
      ]
    },
    {
      "cell_type": "markdown",
      "metadata": {
        "id": "s_8vRP7Ixu6F",
        "colab_type": "text"
      },
      "source": [
        "Importing the libraries"
      ]
    },
    {
      "cell_type": "code",
      "metadata": {
        "id": "q62bcYx1ts2g",
        "colab_type": "code",
        "colab": {}
      },
      "source": [
        "import pandas as pd"
      ],
      "execution_count": 0,
      "outputs": []
    },
    {
      "cell_type": "markdown",
      "metadata": {
        "id": "awVYcmcDxqW3",
        "colab_type": "text"
      },
      "source": [
        "Importing the data from the files"
      ]
    },
    {
      "cell_type": "code",
      "metadata": {
        "id": "IVNWh5v2u6-O",
        "colab_type": "code",
        "outputId": "87600369-66a9-45bd-95be-058d5b9b96b7",
        "colab": {
          "base_uri": "https://localhost:8080/",
          "height": 402
        }
      },
      "source": [
        "pd.read_csv('BCH-USD.csv',names=['time','low','high','open','close','volume'])"
      ],
      "execution_count": 14,
      "outputs": [
        {
          "output_type": "execute_result",
          "data": {
            "text/html": [
              "<div>\n",
              "<style scoped>\n",
              "    .dataframe tbody tr th:only-of-type {\n",
              "        vertical-align: middle;\n",
              "    }\n",
              "\n",
              "    .dataframe tbody tr th {\n",
              "        vertical-align: top;\n",
              "    }\n",
              "\n",
              "    .dataframe thead th {\n",
              "        text-align: right;\n",
              "    }\n",
              "</style>\n",
              "<table border=\"1\" class=\"dataframe\">\n",
              "  <thead>\n",
              "    <tr style=\"text-align: right;\">\n",
              "      <th></th>\n",
              "      <th>time</th>\n",
              "      <th>low</th>\n",
              "      <th>high</th>\n",
              "      <th>open</th>\n",
              "      <th>close</th>\n",
              "      <th>volume</th>\n",
              "    </tr>\n",
              "  </thead>\n",
              "  <tbody>\n",
              "    <tr>\n",
              "      <th>0</th>\n",
              "      <td>1528968660</td>\n",
              "      <td>871.650024</td>\n",
              "      <td>871.729980</td>\n",
              "      <td>871.650024</td>\n",
              "      <td>871.719971</td>\n",
              "      <td>5.675361</td>\n",
              "    </tr>\n",
              "    <tr>\n",
              "      <th>1</th>\n",
              "      <td>1528968720</td>\n",
              "      <td>870.859985</td>\n",
              "      <td>871.719971</td>\n",
              "      <td>871.719971</td>\n",
              "      <td>870.859985</td>\n",
              "      <td>26.856577</td>\n",
              "    </tr>\n",
              "    <tr>\n",
              "      <th>2</th>\n",
              "      <td>1528968780</td>\n",
              "      <td>870.099976</td>\n",
              "      <td>871.090027</td>\n",
              "      <td>871.090027</td>\n",
              "      <td>870.099976</td>\n",
              "      <td>1.124300</td>\n",
              "    </tr>\n",
              "    <tr>\n",
              "      <th>3</th>\n",
              "      <td>1528968840</td>\n",
              "      <td>868.830017</td>\n",
              "      <td>870.950012</td>\n",
              "      <td>868.830017</td>\n",
              "      <td>870.789978</td>\n",
              "      <td>1.749862</td>\n",
              "    </tr>\n",
              "    <tr>\n",
              "      <th>4</th>\n",
              "      <td>1528968900</td>\n",
              "      <td>870.000000</td>\n",
              "      <td>870.000000</td>\n",
              "      <td>870.000000</td>\n",
              "      <td>870.000000</td>\n",
              "      <td>1.680500</td>\n",
              "    </tr>\n",
              "    <tr>\n",
              "      <th>...</th>\n",
              "      <td>...</td>\n",
              "      <td>...</td>\n",
              "      <td>...</td>\n",
              "      <td>...</td>\n",
              "      <td>...</td>\n",
              "      <td>...</td>\n",
              "    </tr>\n",
              "    <tr>\n",
              "      <th>92220</th>\n",
              "      <td>1535215020</td>\n",
              "      <td>531.479980</td>\n",
              "      <td>531.479980</td>\n",
              "      <td>531.479980</td>\n",
              "      <td>531.479980</td>\n",
              "      <td>0.016868</td>\n",
              "    </tr>\n",
              "    <tr>\n",
              "      <th>92221</th>\n",
              "      <td>1535215080</td>\n",
              "      <td>531.469971</td>\n",
              "      <td>531.469971</td>\n",
              "      <td>531.469971</td>\n",
              "      <td>531.469971</td>\n",
              "      <td>0.013854</td>\n",
              "    </tr>\n",
              "    <tr>\n",
              "      <th>92222</th>\n",
              "      <td>1535215140</td>\n",
              "      <td>531.479980</td>\n",
              "      <td>531.479980</td>\n",
              "      <td>531.479980</td>\n",
              "      <td>531.479980</td>\n",
              "      <td>0.016900</td>\n",
              "    </tr>\n",
              "    <tr>\n",
              "      <th>92223</th>\n",
              "      <td>1535215200</td>\n",
              "      <td>531.479980</td>\n",
              "      <td>531.479980</td>\n",
              "      <td>531.479980</td>\n",
              "      <td>531.479980</td>\n",
              "      <td>0.299520</td>\n",
              "    </tr>\n",
              "    <tr>\n",
              "      <th>92224</th>\n",
              "      <td>1535215260</td>\n",
              "      <td>531.479980</td>\n",
              "      <td>531.630005</td>\n",
              "      <td>531.479980</td>\n",
              "      <td>531.630005</td>\n",
              "      <td>3.528913</td>\n",
              "    </tr>\n",
              "  </tbody>\n",
              "</table>\n",
              "<p>92225 rows × 6 columns</p>\n",
              "</div>"
            ],
            "text/plain": [
              "             time         low        high        open       close     volume\n",
              "0      1528968660  871.650024  871.729980  871.650024  871.719971   5.675361\n",
              "1      1528968720  870.859985  871.719971  871.719971  870.859985  26.856577\n",
              "2      1528968780  870.099976  871.090027  871.090027  870.099976   1.124300\n",
              "3      1528968840  868.830017  870.950012  868.830017  870.789978   1.749862\n",
              "4      1528968900  870.000000  870.000000  870.000000  870.000000   1.680500\n",
              "...           ...         ...         ...         ...         ...        ...\n",
              "92220  1535215020  531.479980  531.479980  531.479980  531.479980   0.016868\n",
              "92221  1535215080  531.469971  531.469971  531.469971  531.469971   0.013854\n",
              "92222  1535215140  531.479980  531.479980  531.479980  531.479980   0.016900\n",
              "92223  1535215200  531.479980  531.479980  531.479980  531.479980   0.299520\n",
              "92224  1535215260  531.479980  531.630005  531.479980  531.630005   3.528913\n",
              "\n",
              "[92225 rows x 6 columns]"
            ]
          },
          "metadata": {
            "tags": []
          },
          "execution_count": 14
        }
      ]
    },
    {
      "cell_type": "markdown",
      "metadata": {
        "id": "czfEIELFxyBm",
        "colab_type": "text"
      },
      "source": [
        "Making the final dataframe.The final dataframe contains all the close and volume values from the all the csv files merged together with the timestamp as the index."
      ]
    },
    {
      "cell_type": "code",
      "metadata": {
        "id": "wIbvHhjUWJm9",
        "colab_type": "code",
        "colab": {}
      },
      "source": [
        "data=['BCH-USD','BTC-USD','ETH-USD','LTC-USD']"
      ],
      "execution_count": 0,
      "outputs": []
    },
    {
      "cell_type": "code",
      "metadata": {
        "id": "YzN5oO6gxowU",
        "colab_type": "code",
        "outputId": "aa7d7245-a6de-4e4e-aa15-73797adaad36",
        "colab": {
          "base_uri": "https://localhost:8080/",
          "height": 373
        }
      },
      "source": [
        "main_df=pd.DataFrame()\n",
        "for dataset in data:\n",
        "  d=f'{dataset}.csv'\n",
        "  df=pd.read_csv(d,names=['time','low','high','open','close','volume'])\n",
        "  #print(df.head(5))\n",
        "  df.rename(columns={\"close\":f'{dataset}_close','volume':f\"{dataset}_volume\"},inplace=True)\n",
        "  df.set_index(\"time\",inplace=True)\n",
        "  df=df[[f'{dataset}_close',f\"{dataset}_volume\"]]\n",
        "  \n",
        "  if len(main_df)==0:\n",
        "    main_df=df\n",
        "  else:\n",
        "    main_df=main_df.join(df)\n",
        "\n",
        "#printing the head of the main_df\n",
        "main_df.head(10)"
      ],
      "execution_count": 16,
      "outputs": [
        {
          "output_type": "execute_result",
          "data": {
            "text/html": [
              "<div>\n",
              "<style scoped>\n",
              "    .dataframe tbody tr th:only-of-type {\n",
              "        vertical-align: middle;\n",
              "    }\n",
              "\n",
              "    .dataframe tbody tr th {\n",
              "        vertical-align: top;\n",
              "    }\n",
              "\n",
              "    .dataframe thead th {\n",
              "        text-align: right;\n",
              "    }\n",
              "</style>\n",
              "<table border=\"1\" class=\"dataframe\">\n",
              "  <thead>\n",
              "    <tr style=\"text-align: right;\">\n",
              "      <th></th>\n",
              "      <th>BCH-USD_close</th>\n",
              "      <th>BCH-USD_volume</th>\n",
              "      <th>BTC-USD_close</th>\n",
              "      <th>BTC-USD_volume</th>\n",
              "      <th>ETH-USD_close</th>\n",
              "      <th>ETH-USD_volume</th>\n",
              "      <th>LTC-USD_close</th>\n",
              "      <th>LTC-USD_volume</th>\n",
              "    </tr>\n",
              "    <tr>\n",
              "      <th>time</th>\n",
              "      <th></th>\n",
              "      <th></th>\n",
              "      <th></th>\n",
              "      <th></th>\n",
              "      <th></th>\n",
              "      <th></th>\n",
              "      <th></th>\n",
              "      <th></th>\n",
              "    </tr>\n",
              "  </thead>\n",
              "  <tbody>\n",
              "    <tr>\n",
              "      <th>1528968660</th>\n",
              "      <td>871.719971</td>\n",
              "      <td>5.675361</td>\n",
              "      <td>6489.549805</td>\n",
              "      <td>0.587100</td>\n",
              "      <td>NaN</td>\n",
              "      <td>NaN</td>\n",
              "      <td>96.580002</td>\n",
              "      <td>9.647200</td>\n",
              "    </tr>\n",
              "    <tr>\n",
              "      <th>1528968720</th>\n",
              "      <td>870.859985</td>\n",
              "      <td>26.856577</td>\n",
              "      <td>6487.379883</td>\n",
              "      <td>7.706374</td>\n",
              "      <td>486.01001</td>\n",
              "      <td>26.019083</td>\n",
              "      <td>96.660004</td>\n",
              "      <td>314.387024</td>\n",
              "    </tr>\n",
              "    <tr>\n",
              "      <th>1528968780</th>\n",
              "      <td>870.099976</td>\n",
              "      <td>1.124300</td>\n",
              "      <td>6479.410156</td>\n",
              "      <td>3.088252</td>\n",
              "      <td>486.00000</td>\n",
              "      <td>8.449400</td>\n",
              "      <td>96.570000</td>\n",
              "      <td>77.129799</td>\n",
              "    </tr>\n",
              "    <tr>\n",
              "      <th>1528968840</th>\n",
              "      <td>870.789978</td>\n",
              "      <td>1.749862</td>\n",
              "      <td>6479.410156</td>\n",
              "      <td>1.404100</td>\n",
              "      <td>485.75000</td>\n",
              "      <td>26.994646</td>\n",
              "      <td>96.500000</td>\n",
              "      <td>7.216067</td>\n",
              "    </tr>\n",
              "    <tr>\n",
              "      <th>1528968900</th>\n",
              "      <td>870.000000</td>\n",
              "      <td>1.680500</td>\n",
              "      <td>6479.979980</td>\n",
              "      <td>0.753000</td>\n",
              "      <td>486.00000</td>\n",
              "      <td>77.355759</td>\n",
              "      <td>96.389999</td>\n",
              "      <td>524.539978</td>\n",
              "    </tr>\n",
              "    <tr>\n",
              "      <th>1528968960</th>\n",
              "      <td>869.989990</td>\n",
              "      <td>1.669014</td>\n",
              "      <td>6480.000000</td>\n",
              "      <td>1.490900</td>\n",
              "      <td>486.00000</td>\n",
              "      <td>7.503300</td>\n",
              "      <td>96.519997</td>\n",
              "      <td>16.991997</td>\n",
              "    </tr>\n",
              "    <tr>\n",
              "      <th>1528969020</th>\n",
              "      <td>869.450012</td>\n",
              "      <td>0.865200</td>\n",
              "      <td>6477.220215</td>\n",
              "      <td>2.731950</td>\n",
              "      <td>485.98999</td>\n",
              "      <td>85.877251</td>\n",
              "      <td>96.440002</td>\n",
              "      <td>95.524078</td>\n",
              "    </tr>\n",
              "    <tr>\n",
              "      <th>1528969080</th>\n",
              "      <td>869.989990</td>\n",
              "      <td>23.534929</td>\n",
              "      <td>6480.000000</td>\n",
              "      <td>2.174240</td>\n",
              "      <td>485.98999</td>\n",
              "      <td>160.915192</td>\n",
              "      <td>96.470001</td>\n",
              "      <td>175.205307</td>\n",
              "    </tr>\n",
              "    <tr>\n",
              "      <th>1528969140</th>\n",
              "      <td>870.000000</td>\n",
              "      <td>2.300000</td>\n",
              "      <td>6479.990234</td>\n",
              "      <td>0.903100</td>\n",
              "      <td>485.98999</td>\n",
              "      <td>61.371887</td>\n",
              "      <td>96.400002</td>\n",
              "      <td>43.652802</td>\n",
              "    </tr>\n",
              "    <tr>\n",
              "      <th>1528969200</th>\n",
              "      <td>870.320007</td>\n",
              "      <td>9.255514</td>\n",
              "      <td>6478.660156</td>\n",
              "      <td>3.258786</td>\n",
              "      <td>485.98999</td>\n",
              "      <td>42.687656</td>\n",
              "      <td>96.400002</td>\n",
              "      <td>8.160000</td>\n",
              "    </tr>\n",
              "  </tbody>\n",
              "</table>\n",
              "</div>"
            ],
            "text/plain": [
              "            BCH-USD_close  BCH-USD_volume  ...  LTC-USD_close  LTC-USD_volume\n",
              "time                                       ...                               \n",
              "1528968660     871.719971        5.675361  ...      96.580002        9.647200\n",
              "1528968720     870.859985       26.856577  ...      96.660004      314.387024\n",
              "1528968780     870.099976        1.124300  ...      96.570000       77.129799\n",
              "1528968840     870.789978        1.749862  ...      96.500000        7.216067\n",
              "1528968900     870.000000        1.680500  ...      96.389999      524.539978\n",
              "1528968960     869.989990        1.669014  ...      96.519997       16.991997\n",
              "1528969020     869.450012        0.865200  ...      96.440002       95.524078\n",
              "1528969080     869.989990       23.534929  ...      96.470001      175.205307\n",
              "1528969140     870.000000        2.300000  ...      96.400002       43.652802\n",
              "1528969200     870.320007        9.255514  ...      96.400002        8.160000\n",
              "\n",
              "[10 rows x 8 columns]"
            ]
          },
          "metadata": {
            "tags": []
          },
          "execution_count": 16
        }
      ]
    },
    {
      "cell_type": "markdown",
      "metadata": {
        "id": "KnlfNoTr-fhz",
        "colab_type": "text"
      },
      "source": [
        "#Data Preprocessing "
      ]
    },
    {
      "cell_type": "markdown",
      "metadata": {
        "id": "BUq2FjIM-kjz",
        "colab_type": "text"
      },
      "source": [
        "###Setting up the initial parameters and conditions "
      ]
    },
    {
      "cell_type": "markdown",
      "metadata": {
        "id": "3rBPWuI4C3Nw",
        "colab_type": "text"
      },
      "source": [
        "**What do we want to do ?**<br>\n",
        "We want to predict the prices for the future period of time using the current prices of the currency .  "
      ]
    },
    {
      "cell_type": "markdown",
      "metadata": {
        "id": "qyibwYeyDin0",
        "colab_type": "text"
      },
      "source": [
        "**Initial Setup**\n",
        "*   We decide a sequence length which is required to train a model,this sequence represents the number of past observations required to make the predictions.(SEQ_LEN)\n",
        "\n",
        "*   Then , we decide a time in the future for which we want to predict the prices.(FUTURE_PERIOD_PREDICT)\n",
        "\n",
        "* We choose a column for which we want to predict the prices.(RATIO_TO_PREDICT) \n",
        "\n"
      ]
    },
    {
      "cell_type": "code",
      "metadata": {
        "id": "kO5ae4Ad5_g6",
        "colab_type": "code",
        "colab": {}
      },
      "source": [
        "SEQ_LEN=60\n",
        "FUTURE_PERIOD_PREDICT=3\n",
        "RATIO_TO_PREDICT='LTC-USD'"
      ],
      "execution_count": 0,
      "outputs": []
    },
    {
      "cell_type": "markdown",
      "metadata": {
        "id": "JcN6vNhq_XJX",
        "colab_type": "text"
      },
      "source": [
        "The function which helps us detemine whether buying a currency is profitable or not in the future ."
      ]
    },
    {
      "cell_type": "code",
      "metadata": {
        "id": "VLDqpCHW-5yE",
        "colab_type": "code",
        "colab": {}
      },
      "source": [
        "def classify(current,future):\n",
        "  if( float(future)> float(current)):\n",
        "    return 1\n",
        "  else:\n",
        "    return 0"
      ],
      "execution_count": 0,
      "outputs": []
    },
    {
      "cell_type": "markdown",
      "metadata": {
        "id": "zaQR21tDE6eQ",
        "colab_type": "text"
      },
      "source": [
        "Setting up the future and the target column in the main dataframe"
      ]
    },
    {
      "cell_type": "code",
      "metadata": {
        "id": "iE7_zMVZ_wd7",
        "colab_type": "code",
        "outputId": "a2d24620-c80e-4f49-8a3a-af0a120190c2",
        "colab": {
          "base_uri": "https://localhost:8080/",
          "height": 373
        }
      },
      "source": [
        "main_df['future']=main_df[f'{RATIO_TO_PREDICT}_close'].shift(-FUTURE_PERIOD_PREDICT)\n",
        "main_df.head(10)"
      ],
      "execution_count": 19,
      "outputs": [
        {
          "output_type": "execute_result",
          "data": {
            "text/html": [
              "<div>\n",
              "<style scoped>\n",
              "    .dataframe tbody tr th:only-of-type {\n",
              "        vertical-align: middle;\n",
              "    }\n",
              "\n",
              "    .dataframe tbody tr th {\n",
              "        vertical-align: top;\n",
              "    }\n",
              "\n",
              "    .dataframe thead th {\n",
              "        text-align: right;\n",
              "    }\n",
              "</style>\n",
              "<table border=\"1\" class=\"dataframe\">\n",
              "  <thead>\n",
              "    <tr style=\"text-align: right;\">\n",
              "      <th></th>\n",
              "      <th>BCH-USD_close</th>\n",
              "      <th>BCH-USD_volume</th>\n",
              "      <th>BTC-USD_close</th>\n",
              "      <th>BTC-USD_volume</th>\n",
              "      <th>ETH-USD_close</th>\n",
              "      <th>ETH-USD_volume</th>\n",
              "      <th>LTC-USD_close</th>\n",
              "      <th>LTC-USD_volume</th>\n",
              "      <th>future</th>\n",
              "    </tr>\n",
              "    <tr>\n",
              "      <th>time</th>\n",
              "      <th></th>\n",
              "      <th></th>\n",
              "      <th></th>\n",
              "      <th></th>\n",
              "      <th></th>\n",
              "      <th></th>\n",
              "      <th></th>\n",
              "      <th></th>\n",
              "      <th></th>\n",
              "    </tr>\n",
              "  </thead>\n",
              "  <tbody>\n",
              "    <tr>\n",
              "      <th>1528968660</th>\n",
              "      <td>871.719971</td>\n",
              "      <td>5.675361</td>\n",
              "      <td>6489.549805</td>\n",
              "      <td>0.587100</td>\n",
              "      <td>NaN</td>\n",
              "      <td>NaN</td>\n",
              "      <td>96.580002</td>\n",
              "      <td>9.647200</td>\n",
              "      <td>96.500000</td>\n",
              "    </tr>\n",
              "    <tr>\n",
              "      <th>1528968720</th>\n",
              "      <td>870.859985</td>\n",
              "      <td>26.856577</td>\n",
              "      <td>6487.379883</td>\n",
              "      <td>7.706374</td>\n",
              "      <td>486.01001</td>\n",
              "      <td>26.019083</td>\n",
              "      <td>96.660004</td>\n",
              "      <td>314.387024</td>\n",
              "      <td>96.389999</td>\n",
              "    </tr>\n",
              "    <tr>\n",
              "      <th>1528968780</th>\n",
              "      <td>870.099976</td>\n",
              "      <td>1.124300</td>\n",
              "      <td>6479.410156</td>\n",
              "      <td>3.088252</td>\n",
              "      <td>486.00000</td>\n",
              "      <td>8.449400</td>\n",
              "      <td>96.570000</td>\n",
              "      <td>77.129799</td>\n",
              "      <td>96.519997</td>\n",
              "    </tr>\n",
              "    <tr>\n",
              "      <th>1528968840</th>\n",
              "      <td>870.789978</td>\n",
              "      <td>1.749862</td>\n",
              "      <td>6479.410156</td>\n",
              "      <td>1.404100</td>\n",
              "      <td>485.75000</td>\n",
              "      <td>26.994646</td>\n",
              "      <td>96.500000</td>\n",
              "      <td>7.216067</td>\n",
              "      <td>96.440002</td>\n",
              "    </tr>\n",
              "    <tr>\n",
              "      <th>1528968900</th>\n",
              "      <td>870.000000</td>\n",
              "      <td>1.680500</td>\n",
              "      <td>6479.979980</td>\n",
              "      <td>0.753000</td>\n",
              "      <td>486.00000</td>\n",
              "      <td>77.355759</td>\n",
              "      <td>96.389999</td>\n",
              "      <td>524.539978</td>\n",
              "      <td>96.470001</td>\n",
              "    </tr>\n",
              "    <tr>\n",
              "      <th>1528968960</th>\n",
              "      <td>869.989990</td>\n",
              "      <td>1.669014</td>\n",
              "      <td>6480.000000</td>\n",
              "      <td>1.490900</td>\n",
              "      <td>486.00000</td>\n",
              "      <td>7.503300</td>\n",
              "      <td>96.519997</td>\n",
              "      <td>16.991997</td>\n",
              "      <td>96.400002</td>\n",
              "    </tr>\n",
              "    <tr>\n",
              "      <th>1528969020</th>\n",
              "      <td>869.450012</td>\n",
              "      <td>0.865200</td>\n",
              "      <td>6477.220215</td>\n",
              "      <td>2.731950</td>\n",
              "      <td>485.98999</td>\n",
              "      <td>85.877251</td>\n",
              "      <td>96.440002</td>\n",
              "      <td>95.524078</td>\n",
              "      <td>96.400002</td>\n",
              "    </tr>\n",
              "    <tr>\n",
              "      <th>1528969080</th>\n",
              "      <td>869.989990</td>\n",
              "      <td>23.534929</td>\n",
              "      <td>6480.000000</td>\n",
              "      <td>2.174240</td>\n",
              "      <td>485.98999</td>\n",
              "      <td>160.915192</td>\n",
              "      <td>96.470001</td>\n",
              "      <td>175.205307</td>\n",
              "      <td>96.400002</td>\n",
              "    </tr>\n",
              "    <tr>\n",
              "      <th>1528969140</th>\n",
              "      <td>870.000000</td>\n",
              "      <td>2.300000</td>\n",
              "      <td>6479.990234</td>\n",
              "      <td>0.903100</td>\n",
              "      <td>485.98999</td>\n",
              "      <td>61.371887</td>\n",
              "      <td>96.400002</td>\n",
              "      <td>43.652802</td>\n",
              "      <td>96.400002</td>\n",
              "    </tr>\n",
              "    <tr>\n",
              "      <th>1528969200</th>\n",
              "      <td>870.320007</td>\n",
              "      <td>9.255514</td>\n",
              "      <td>6478.660156</td>\n",
              "      <td>3.258786</td>\n",
              "      <td>485.98999</td>\n",
              "      <td>42.687656</td>\n",
              "      <td>96.400002</td>\n",
              "      <td>8.160000</td>\n",
              "      <td>96.400002</td>\n",
              "    </tr>\n",
              "  </tbody>\n",
              "</table>\n",
              "</div>"
            ],
            "text/plain": [
              "            BCH-USD_close  BCH-USD_volume  ...  LTC-USD_volume     future\n",
              "time                                       ...                           \n",
              "1528968660     871.719971        5.675361  ...        9.647200  96.500000\n",
              "1528968720     870.859985       26.856577  ...      314.387024  96.389999\n",
              "1528968780     870.099976        1.124300  ...       77.129799  96.519997\n",
              "1528968840     870.789978        1.749862  ...        7.216067  96.440002\n",
              "1528968900     870.000000        1.680500  ...      524.539978  96.470001\n",
              "1528968960     869.989990        1.669014  ...       16.991997  96.400002\n",
              "1528969020     869.450012        0.865200  ...       95.524078  96.400002\n",
              "1528969080     869.989990       23.534929  ...      175.205307  96.400002\n",
              "1528969140     870.000000        2.300000  ...       43.652802  96.400002\n",
              "1528969200     870.320007        9.255514  ...        8.160000  96.400002\n",
              "\n",
              "[10 rows x 9 columns]"
            ]
          },
          "metadata": {
            "tags": []
          },
          "execution_count": 19
        }
      ]
    },
    {
      "cell_type": "code",
      "metadata": {
        "id": "IwukP9UFBBap",
        "colab_type": "code",
        "outputId": "26cbfb4d-968d-4343-be5b-7e00bf9ca784",
        "colab": {
          "base_uri": "https://localhost:8080/",
          "height": 373
        }
      },
      "source": [
        "#we are going to make a list by mapping the columns to a function and then assign the list as a column \n",
        "main_df['target']=list(map(classify,main_df[f'{RATIO_TO_PREDICT}_close'],main_df['future']))\n",
        "main_df.head(10)"
      ],
      "execution_count": 20,
      "outputs": [
        {
          "output_type": "execute_result",
          "data": {
            "text/html": [
              "<div>\n",
              "<style scoped>\n",
              "    .dataframe tbody tr th:only-of-type {\n",
              "        vertical-align: middle;\n",
              "    }\n",
              "\n",
              "    .dataframe tbody tr th {\n",
              "        vertical-align: top;\n",
              "    }\n",
              "\n",
              "    .dataframe thead th {\n",
              "        text-align: right;\n",
              "    }\n",
              "</style>\n",
              "<table border=\"1\" class=\"dataframe\">\n",
              "  <thead>\n",
              "    <tr style=\"text-align: right;\">\n",
              "      <th></th>\n",
              "      <th>BCH-USD_close</th>\n",
              "      <th>BCH-USD_volume</th>\n",
              "      <th>BTC-USD_close</th>\n",
              "      <th>BTC-USD_volume</th>\n",
              "      <th>ETH-USD_close</th>\n",
              "      <th>ETH-USD_volume</th>\n",
              "      <th>LTC-USD_close</th>\n",
              "      <th>LTC-USD_volume</th>\n",
              "      <th>future</th>\n",
              "      <th>target</th>\n",
              "    </tr>\n",
              "    <tr>\n",
              "      <th>time</th>\n",
              "      <th></th>\n",
              "      <th></th>\n",
              "      <th></th>\n",
              "      <th></th>\n",
              "      <th></th>\n",
              "      <th></th>\n",
              "      <th></th>\n",
              "      <th></th>\n",
              "      <th></th>\n",
              "      <th></th>\n",
              "    </tr>\n",
              "  </thead>\n",
              "  <tbody>\n",
              "    <tr>\n",
              "      <th>1528968660</th>\n",
              "      <td>871.719971</td>\n",
              "      <td>5.675361</td>\n",
              "      <td>6489.549805</td>\n",
              "      <td>0.587100</td>\n",
              "      <td>NaN</td>\n",
              "      <td>NaN</td>\n",
              "      <td>96.580002</td>\n",
              "      <td>9.647200</td>\n",
              "      <td>96.500000</td>\n",
              "      <td>0</td>\n",
              "    </tr>\n",
              "    <tr>\n",
              "      <th>1528968720</th>\n",
              "      <td>870.859985</td>\n",
              "      <td>26.856577</td>\n",
              "      <td>6487.379883</td>\n",
              "      <td>7.706374</td>\n",
              "      <td>486.01001</td>\n",
              "      <td>26.019083</td>\n",
              "      <td>96.660004</td>\n",
              "      <td>314.387024</td>\n",
              "      <td>96.389999</td>\n",
              "      <td>0</td>\n",
              "    </tr>\n",
              "    <tr>\n",
              "      <th>1528968780</th>\n",
              "      <td>870.099976</td>\n",
              "      <td>1.124300</td>\n",
              "      <td>6479.410156</td>\n",
              "      <td>3.088252</td>\n",
              "      <td>486.00000</td>\n",
              "      <td>8.449400</td>\n",
              "      <td>96.570000</td>\n",
              "      <td>77.129799</td>\n",
              "      <td>96.519997</td>\n",
              "      <td>0</td>\n",
              "    </tr>\n",
              "    <tr>\n",
              "      <th>1528968840</th>\n",
              "      <td>870.789978</td>\n",
              "      <td>1.749862</td>\n",
              "      <td>6479.410156</td>\n",
              "      <td>1.404100</td>\n",
              "      <td>485.75000</td>\n",
              "      <td>26.994646</td>\n",
              "      <td>96.500000</td>\n",
              "      <td>7.216067</td>\n",
              "      <td>96.440002</td>\n",
              "      <td>0</td>\n",
              "    </tr>\n",
              "    <tr>\n",
              "      <th>1528968900</th>\n",
              "      <td>870.000000</td>\n",
              "      <td>1.680500</td>\n",
              "      <td>6479.979980</td>\n",
              "      <td>0.753000</td>\n",
              "      <td>486.00000</td>\n",
              "      <td>77.355759</td>\n",
              "      <td>96.389999</td>\n",
              "      <td>524.539978</td>\n",
              "      <td>96.470001</td>\n",
              "      <td>1</td>\n",
              "    </tr>\n",
              "    <tr>\n",
              "      <th>1528968960</th>\n",
              "      <td>869.989990</td>\n",
              "      <td>1.669014</td>\n",
              "      <td>6480.000000</td>\n",
              "      <td>1.490900</td>\n",
              "      <td>486.00000</td>\n",
              "      <td>7.503300</td>\n",
              "      <td>96.519997</td>\n",
              "      <td>16.991997</td>\n",
              "      <td>96.400002</td>\n",
              "      <td>0</td>\n",
              "    </tr>\n",
              "    <tr>\n",
              "      <th>1528969020</th>\n",
              "      <td>869.450012</td>\n",
              "      <td>0.865200</td>\n",
              "      <td>6477.220215</td>\n",
              "      <td>2.731950</td>\n",
              "      <td>485.98999</td>\n",
              "      <td>85.877251</td>\n",
              "      <td>96.440002</td>\n",
              "      <td>95.524078</td>\n",
              "      <td>96.400002</td>\n",
              "      <td>0</td>\n",
              "    </tr>\n",
              "    <tr>\n",
              "      <th>1528969080</th>\n",
              "      <td>869.989990</td>\n",
              "      <td>23.534929</td>\n",
              "      <td>6480.000000</td>\n",
              "      <td>2.174240</td>\n",
              "      <td>485.98999</td>\n",
              "      <td>160.915192</td>\n",
              "      <td>96.470001</td>\n",
              "      <td>175.205307</td>\n",
              "      <td>96.400002</td>\n",
              "      <td>0</td>\n",
              "    </tr>\n",
              "    <tr>\n",
              "      <th>1528969140</th>\n",
              "      <td>870.000000</td>\n",
              "      <td>2.300000</td>\n",
              "      <td>6479.990234</td>\n",
              "      <td>0.903100</td>\n",
              "      <td>485.98999</td>\n",
              "      <td>61.371887</td>\n",
              "      <td>96.400002</td>\n",
              "      <td>43.652802</td>\n",
              "      <td>96.400002</td>\n",
              "      <td>0</td>\n",
              "    </tr>\n",
              "    <tr>\n",
              "      <th>1528969200</th>\n",
              "      <td>870.320007</td>\n",
              "      <td>9.255514</td>\n",
              "      <td>6478.660156</td>\n",
              "      <td>3.258786</td>\n",
              "      <td>485.98999</td>\n",
              "      <td>42.687656</td>\n",
              "      <td>96.400002</td>\n",
              "      <td>8.160000</td>\n",
              "      <td>96.400002</td>\n",
              "      <td>0</td>\n",
              "    </tr>\n",
              "  </tbody>\n",
              "</table>\n",
              "</div>"
            ],
            "text/plain": [
              "            BCH-USD_close  BCH-USD_volume  ...     future  target\n",
              "time                                       ...                   \n",
              "1528968660     871.719971        5.675361  ...  96.500000       0\n",
              "1528968720     870.859985       26.856577  ...  96.389999       0\n",
              "1528968780     870.099976        1.124300  ...  96.519997       0\n",
              "1528968840     870.789978        1.749862  ...  96.440002       0\n",
              "1528968900     870.000000        1.680500  ...  96.470001       1\n",
              "1528968960     869.989990        1.669014  ...  96.400002       0\n",
              "1528969020     869.450012        0.865200  ...  96.400002       0\n",
              "1528969080     869.989990       23.534929  ...  96.400002       0\n",
              "1528969140     870.000000        2.300000  ...  96.400002       0\n",
              "1528969200     870.320007        9.255514  ...  96.400002       0\n",
              "\n",
              "[10 rows x 10 columns]"
            ]
          },
          "metadata": {
            "tags": []
          },
          "execution_count": 20
        }
      ]
    },
    {
      "cell_type": "markdown",
      "metadata": {
        "id": "p3HKGZuVP-7v",
        "colab_type": "text"
      },
      "source": [
        "### Making the validation set and the main dataframe\n",
        "\n",
        "**We want to carefully seperate the validation data and the training data .In this case getting a random sequence of data and shuffling the data does not help .The validation data has to be an accurate representation of the future**"
      ]
    },
    {
      "cell_type": "markdown",
      "metadata": {
        "id": "sVBSc3eKQ5yV",
        "colab_type": "text"
      },
      "source": [
        "Sorting rows using the timestamp "
      ]
    },
    {
      "cell_type": "code",
      "metadata": {
        "id": "wWwz51f7QJ14",
        "colab_type": "code",
        "colab": {}
      },
      "source": [
        "times=sorted(main_df.index.values)"
      ],
      "execution_count": 0,
      "outputs": []
    },
    {
      "cell_type": "markdown",
      "metadata": {
        "id": "5KWY0c1GRSCP",
        "colab_type": "text"
      },
      "source": [
        "Getting the index of the last 5 percent of the data"
      ]
    },
    {
      "cell_type": "code",
      "metadata": {
        "id": "Nv9vKj9PQS_D",
        "colab_type": "code",
        "colab": {}
      },
      "source": [
        "last_5pct=times[-int(0.05*len(times))]"
      ],
      "execution_count": 0,
      "outputs": []
    },
    {
      "cell_type": "code",
      "metadata": {
        "id": "CiXtN4Y_w8Mj",
        "colab_type": "code",
        "outputId": "f5db5268-a141-4c3f-bfa2-dcb5789a7e51",
        "colab": {
          "base_uri": "https://localhost:8080/",
          "height": 34
        }
      },
      "source": [
        "last_5pct # timestamp of the row which marks the beginning of the last 5 percent of the data"
      ],
      "execution_count": 23,
      "outputs": [
        {
          "output_type": "execute_result",
          "data": {
            "text/plain": [
              "1534879920"
            ]
          },
          "metadata": {
            "tags": []
          },
          "execution_count": 23
        }
      ]
    },
    {
      "cell_type": "markdown",
      "metadata": {
        "id": "7sJlG2ddRZdx",
        "colab_type": "text"
      },
      "source": [
        "Making the validation set"
      ]
    },
    {
      "cell_type": "code",
      "metadata": {
        "id": "jRlDWIZbQd79",
        "colab_type": "code",
        "colab": {}
      },
      "source": [
        "validation_main_df=main_df[(main_df.index>=last_5pct)]"
      ],
      "execution_count": 0,
      "outputs": []
    },
    {
      "cell_type": "markdown",
      "metadata": {
        "id": "muHKZiJORcV8",
        "colab_type": "text"
      },
      "source": [
        "Making the training set"
      ]
    },
    {
      "cell_type": "code",
      "metadata": {
        "id": "th4eEtm_QrdO",
        "colab_type": "code",
        "colab": {}
      },
      "source": [
        "main_df=main_df[(main_df.index<last_5pct)]"
      ],
      "execution_count": 0,
      "outputs": []
    },
    {
      "cell_type": "markdown",
      "metadata": {
        "id": "Hzu-WOPNSOk9",
        "colab_type": "text"
      },
      "source": [
        "###Preprocessing function"
      ]
    },
    {
      "cell_type": "markdown",
      "metadata": {
        "id": "QL1NCN1TeWgV",
        "colab_type": "text"
      },
      "source": [
        "We design a pre-processing function that performs the following operations on the data:\n",
        "\n",
        "\n",
        "1.   Normalising the data\n",
        "2.   Scaling the data\n",
        "3. Building the sequential data\n",
        "4. Shuffling the resultant sequences\n",
        "5. Balancing the sequential data \n",
        "6. Returning the matrix of features and the dependent variable\n",
        "\n"
      ]
    },
    {
      "cell_type": "code",
      "metadata": {
        "id": "BQhTs8UNSN2u",
        "colab_type": "code",
        "colab": {}
      },
      "source": [
        "from sklearn import preprocessing \n",
        "from collections import deque\n",
        "import random\n",
        "import numpy as np\n",
        "\n",
        "def preprocess_df(df):\n",
        "  df=df.drop('future',1)\n",
        "\n",
        "#here we are pre-processing the values , normalising and scaling them\n",
        "  for col in df.columns:\n",
        "    if col!='target':\n",
        "      df[col]=df[col].pct_change() #Normalising the data \n",
        "      df.dropna(inplace=True)\n",
        "      df[col]=preprocessing.scale(df[col].values) #scaling\n",
        "  df.dropna(inplace=True)\n",
        "\n",
        "#creating sequences\n",
        "  sequential_data=[]\n",
        "  prev_days=deque(maxlen=SEQ_LEN) # deque function stops appending new elements as soon as the length equals the maximum length specified \n",
        "\n",
        "#building the sequential data\n",
        "  for i in df.values:\n",
        "    prev_days.append([n for n in i[:-1]]) # list of values of 60 rows (a sequence), this is the input data for the RNN  \n",
        "    if len(prev_days)==SEQ_LEN:\n",
        "      sequential_data.append([np.array(prev_days),i[-1]]) # sequences of 60 each along with their label \n",
        "#shuffling the sequences\n",
        "  random.shuffle(sequential_data)\n",
        "  \n",
        "#balancing the data\n",
        "  buys=[]\n",
        "  sells=[]\n",
        "#balancing the data and building again sequential data\n",
        "  for seq,target in sequential_data:\n",
        "    if target==0:\n",
        "      sells.append([seq,target])\n",
        "    elif target==1:\n",
        "      buys.append([seq,target])\n",
        "  \n",
        "  random.shuffle(buys)\n",
        "  random.shuffle(sells)\n",
        "  lower=min(len(buys),len(sells))\n",
        "  buys=buys[:lower]\n",
        "  sells=sells[:lower]\n",
        "  \n",
        "  sequential_data=buys+sells\n",
        "  random.shuffle(sequential_data)\n",
        "\n",
        "#splitting into X,y\n",
        "  X=[]\n",
        "  y=[]\n",
        "\n",
        "  for seq,target in sequential_data:\n",
        "    X.append(seq)\n",
        "    y.append(target)\n",
        "  \n",
        "  return np.array(X),y"
      ],
      "execution_count": 0,
      "outputs": []
    },
    {
      "cell_type": "markdown",
      "metadata": {
        "id": "GDohLPv0vWbi",
        "colab_type": "text"
      },
      "source": [
        "Applying it on the dataframe\n"
      ]
    },
    {
      "cell_type": "code",
      "metadata": {
        "id": "6UEsFEk4vZr0",
        "colab_type": "code",
        "colab": {}
      },
      "source": [
        "X_train,y_train=preprocess_df(main_df)"
      ],
      "execution_count": 0,
      "outputs": []
    },
    {
      "cell_type": "code",
      "metadata": {
        "id": "dcqRF7C2vhP8",
        "colab_type": "code",
        "colab": {}
      },
      "source": [
        "X_validation,y_validation=preprocess_df(validation_main_df)"
      ],
      "execution_count": 0,
      "outputs": []
    },
    {
      "cell_type": "markdown",
      "metadata": {
        "id": "zDmF9cz6wgVw",
        "colab_type": "text"
      },
      "source": [
        "Printing out some statistics "
      ]
    },
    {
      "cell_type": "code",
      "metadata": {
        "id": "C4fle8egv_eZ",
        "colab_type": "code",
        "outputId": "412e161a-bed6-46a6-fabe-7f42f8d0b503",
        "colab": {
          "base_uri": "https://localhost:8080/",
          "height": 67
        }
      },
      "source": [
        "print(f\"train data: {len(X_train)} validation: {len(X_validation)}\")\n",
        "print(f\"Dont buys: {y_train.count(0)}, buys: {y_train.count(1)}\")\n",
        "print(f\"VALIDATION Dont buys: {y_validation.count(0)}, buys: {y_validation.count(1)}\")"
      ],
      "execution_count": 29,
      "outputs": [
        {
          "output_type": "stream",
          "text": [
            "train data: 69400 validation: 3688\n",
            "Dont buys: 34700, buys: 34700\n",
            "VALIDATION Dont buys: 1844, buys: 1844\n"
          ],
          "name": "stdout"
        }
      ]
    },
    {
      "cell_type": "markdown",
      "metadata": {
        "id": "NgUQMVdU-tGq",
        "colab_type": "text"
      },
      "source": [
        "#Applying RNN model"
      ]
    },
    {
      "cell_type": "markdown",
      "metadata": {
        "id": "BnFEVvoDbTCP",
        "colab_type": "text"
      },
      "source": [
        "Importing the packages"
      ]
    },
    {
      "cell_type": "code",
      "metadata": {
        "id": "wzURrtJZ-sTR",
        "colab_type": "code",
        "colab": {}
      },
      "source": [
        "from tensorflow.keras.models import Sequential\n",
        "from tensorflow.keras.layers import Dense,Dropout,LSTM,BatchNormalization\n",
        "from tensorflow.keras.callbacks import TensorBoard,ModelCheckpoint\n",
        "import tensorflow as tf\n",
        "import time"
      ],
      "execution_count": 0,
      "outputs": []
    },
    {
      "cell_type": "markdown",
      "metadata": {
        "id": "XNT4A8d9bVWj",
        "colab_type": "text"
      },
      "source": [
        "Deciding parameters for the training of the RNN"
      ]
    },
    {
      "cell_type": "code",
      "metadata": {
        "id": "Y6P3xcO3_oKp",
        "colab_type": "code",
        "colab": {}
      },
      "source": [
        "EPOCHS=10\n",
        "BATCH_SIZE=64\n",
        "NAME=f'{SEQ_LEN}--SEQ--{FUTURE_PERIOD_PREDICT}--PRED--{int(time.time())}'"
      ],
      "execution_count": 0,
      "outputs": []
    },
    {
      "cell_type": "markdown",
      "metadata": {
        "id": "cGyI177ObcR3",
        "colab_type": "text"
      },
      "source": [
        "Initializing the  model"
      ]
    },
    {
      "cell_type": "code",
      "metadata": {
        "id": "PJJmPZxECtvY",
        "colab_type": "code",
        "colab": {}
      },
      "source": [
        "model=Sequential()"
      ],
      "execution_count": 0,
      "outputs": []
    },
    {
      "cell_type": "markdown",
      "metadata": {
        "id": "hSPaIE2KbfnX",
        "colab_type": "text"
      },
      "source": [
        "Adding Recurrent layers "
      ]
    },
    {
      "cell_type": "code",
      "metadata": {
        "id": "9asPqaydmMP5",
        "colab_type": "code",
        "outputId": "13088c4e-8aff-4be1-94b4-f16fd20a5596",
        "colab": {
          "base_uri": "https://localhost:8080/",
          "height": 34
        }
      },
      "source": [
        "X_train.shape"
      ],
      "execution_count": 45,
      "outputs": [
        {
          "output_type": "execute_result",
          "data": {
            "text/plain": [
              "(69400, 60, 8)"
            ]
          },
          "metadata": {
            "tags": []
          },
          "execution_count": 45
        }
      ]
    },
    {
      "cell_type": "markdown",
      "metadata": {
        "id": "_TRpcFMzmqm8",
        "colab_type": "text"
      },
      "source": [
        "1st Recurrent Layer or the input layer"
      ]
    },
    {
      "cell_type": "code",
      "metadata": {
        "id": "1SV2ZaIKC29c",
        "colab_type": "code",
        "colab": {}
      },
      "source": [
        "model.add(LSTM(128,input_shape=(X_train.shape[1:]),activation='tanh',return_sequences=True))\n",
        "model.add(Dropout(0.2))\n",
        "model.add(BatchNormalization())"
      ],
      "execution_count": 0,
      "outputs": []
    },
    {
      "cell_type": "markdown",
      "metadata": {
        "id": "V7l5vXqimxgB",
        "colab_type": "text"
      },
      "source": [
        "2nd Recurrent layer"
      ]
    },
    {
      "cell_type": "code",
      "metadata": {
        "id": "BqQ4by7qDszs",
        "colab_type": "code",
        "colab": {}
      },
      "source": [
        "model.add(LSTM(128,activation='tanh',return_sequences=True))\n",
        "model.add(Dropout(0.2))\n",
        "model.add(BatchNormalization())"
      ],
      "execution_count": 0,
      "outputs": []
    },
    {
      "cell_type": "markdown",
      "metadata": {
        "id": "DBNdR2KHm2o_",
        "colab_type": "text"
      },
      "source": [
        "3rd Recurrent layer"
      ]
    },
    {
      "cell_type": "code",
      "metadata": {
        "id": "10eVe8FCDtcL",
        "colab_type": "code",
        "colab": {}
      },
      "source": [
        "model.add(LSTM(128,activation='tanh'))\n",
        "model.add(Dropout(0.1))\n",
        "model.add(BatchNormalization())"
      ],
      "execution_count": 0,
      "outputs": []
    },
    {
      "cell_type": "markdown",
      "metadata": {
        "id": "OCKqgoVVblFn",
        "colab_type": "text"
      },
      "source": [
        "Adding Dense layers "
      ]
    },
    {
      "cell_type": "code",
      "metadata": {
        "id": "YJx5Ql78D0rO",
        "colab_type": "code",
        "colab": {}
      },
      "source": [
        "model.add(Dense(32,activation='relu'))\n",
        "model.add(Dropout(0.2))"
      ],
      "execution_count": 0,
      "outputs": []
    },
    {
      "cell_type": "markdown",
      "metadata": {
        "id": "sV-einaSbrSA",
        "colab_type": "text"
      },
      "source": [
        "Adding output layer"
      ]
    },
    {
      "cell_type": "code",
      "metadata": {
        "id": "CHzhUETXE4zj",
        "colab_type": "code",
        "colab": {}
      },
      "source": [
        "model.add(Dense(2,activation='softmax'))"
      ],
      "execution_count": 0,
      "outputs": []
    },
    {
      "cell_type": "markdown",
      "metadata": {
        "id": "YlyjA0-Lbtfh",
        "colab_type": "text"
      },
      "source": [
        "Making the optimizer , to apply SGD and optimize the weights of the network"
      ]
    },
    {
      "cell_type": "code",
      "metadata": {
        "id": "-QB8aFwTFAFl",
        "colab_type": "code",
        "colab": {}
      },
      "source": [
        "optimizer=tf.keras.optimizers.Adam(lr=0.001,decay=1e-6)"
      ],
      "execution_count": 0,
      "outputs": []
    },
    {
      "cell_type": "markdown",
      "metadata": {
        "id": "Xz66EZ9-b5VY",
        "colab_type": "text"
      },
      "source": [
        "Compiling the NN (Putting all the information together)"
      ]
    },
    {
      "cell_type": "code",
      "metadata": {
        "id": "1kD8ajEqFPif",
        "colab_type": "code",
        "colab": {}
      },
      "source": [
        "model.compile(loss='sparse_categorical_crossentropy',optimizer=optimizer,metrics=['accuracy'])"
      ],
      "execution_count": 0,
      "outputs": []
    },
    {
      "cell_type": "code",
      "metadata": {
        "id": "GlPEvOvqiUiC",
        "colab_type": "code",
        "colab": {}
      },
      "source": [
        "y_train=np.asarray(y_train)\n",
        "y_validation=np.asarray(y_validation)"
      ],
      "execution_count": 0,
      "outputs": []
    },
    {
      "cell_type": "markdown",
      "metadata": {
        "id": "LcP1zZubcBNv",
        "colab_type": "text"
      },
      "source": [
        "Fitting the model "
      ]
    },
    {
      "cell_type": "code",
      "metadata": {
        "id": "1SQzMwuMZyof",
        "colab_type": "code",
        "outputId": "b798531d-84d0-47ab-859b-9f0eba61c3e4",
        "colab": {
          "base_uri": "https://localhost:8080/",
          "height": 353
        }
      },
      "source": [
        "history=model.fit(X_train,y_train,batch_size=BATCH_SIZE,epochs=EPOCHS,validation_data=(X_validation,y_validation))"
      ],
      "execution_count": 54,
      "outputs": [
        {
          "output_type": "stream",
          "text": [
            "Epoch 1/10\n",
            "1085/1085 [==============================] - 17s 15ms/step - loss: 0.7223 - accuracy: 0.5139 - val_loss: 0.6969 - val_accuracy: 0.5095\n",
            "Epoch 2/10\n",
            "1085/1085 [==============================] - 16s 15ms/step - loss: 0.6888 - accuracy: 0.5407 - val_loss: 0.6847 - val_accuracy: 0.5393\n",
            "Epoch 3/10\n",
            "1085/1085 [==============================] - 16s 15ms/step - loss: 0.6847 - accuracy: 0.5555 - val_loss: 0.6861 - val_accuracy: 0.5434\n",
            "Epoch 4/10\n",
            "1085/1085 [==============================] - 16s 15ms/step - loss: 0.6830 - accuracy: 0.5596 - val_loss: 0.6752 - val_accuracy: 0.5770\n",
            "Epoch 5/10\n",
            "1085/1085 [==============================] - 16s 15ms/step - loss: 0.6817 - accuracy: 0.5635 - val_loss: 0.6805 - val_accuracy: 0.5700\n",
            "Epoch 6/10\n",
            "1085/1085 [==============================] - 16s 15ms/step - loss: 0.6802 - accuracy: 0.5673 - val_loss: 0.6760 - val_accuracy: 0.5705\n",
            "Epoch 7/10\n",
            "1085/1085 [==============================] - 16s 15ms/step - loss: 0.6788 - accuracy: 0.5690 - val_loss: 0.6728 - val_accuracy: 0.5713\n",
            "Epoch 8/10\n",
            "1085/1085 [==============================] - 16s 15ms/step - loss: 0.6770 - accuracy: 0.5735 - val_loss: 0.6821 - val_accuracy: 0.5523\n",
            "Epoch 9/10\n",
            "1085/1085 [==============================] - 16s 15ms/step - loss: 0.6744 - accuracy: 0.5796 - val_loss: 0.6754 - val_accuracy: 0.5743\n",
            "Epoch 10/10\n",
            "1085/1085 [==============================] - 16s 15ms/step - loss: 0.6710 - accuracy: 0.5850 - val_loss: 0.6781 - val_accuracy: 0.5719\n"
          ],
          "name": "stdout"
        }
      ]
    },
    {
      "cell_type": "markdown",
      "metadata": {
        "id": "iha4hijJc7SE",
        "colab_type": "text"
      },
      "source": [
        "### Notes:\n",
        "\n",
        "\n",
        "\n",
        "1.   For the recurrent layers some activation functions work better and faster ,in this case the 'tanh' function works better than the 'relu' function.\n",
        "\n",
        "2. We can further tweek the model to improve the accuracy , make it faster , less complex and also avoid overfitting.\n",
        "\n",
        "3. Historical data is not always the best predictor of the future trends so beware of the predictions.\n",
        "\n",
        "4. While preprocessing data , it is really important to check and keep an eye out for bugs. In projects like these it is very easy to loose track and create blunders.\n",
        "\n"
      ]
    }
  ]
}