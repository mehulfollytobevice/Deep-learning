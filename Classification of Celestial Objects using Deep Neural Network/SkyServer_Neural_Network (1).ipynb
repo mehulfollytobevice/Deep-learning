{
  "nbformat": 4,
  "nbformat_minor": 0,
  "metadata": {
    "colab": {
      "name": "SkyServer_Neural_Network.ipynb",
      "provenance": [],
      "collapsed_sections": []
    },
    "kernelspec": {
      "name": "python3",
      "display_name": "Python 3"
    },
    "accelerator": "GPU"
  },
  "cells": [
    {
      "cell_type": "code",
      "metadata": {
        "id": "53L3hj_mteZn",
        "colab_type": "code",
        "outputId": "5379d1b4-0cf3-46ac-eb8a-64b5e7a8025a",
        "colab": {
          "base_uri": "https://localhost:8080/",
          "height": 111
        }
      },
      "source": [
        "from google.colab import files\n",
        "files.upload()"
      ],
      "execution_count": 0,
      "outputs": []
    },
    {
      "cell_type": "code",
      "metadata": {
        "id": "HzuB-FfSVGDa",
        "colab_type": "code",
        "outputId": "74785c94-4ad0-497e-c6cd-3798b55d054e",
        "colab": {
          "base_uri": "https://localhost:8080/",
          "height": 302
        }
      },
      "source": [
        "!pip3 install keras_sequential_ascii"
      ],
      "execution_count": 0,
      "outputs": [
        {
          "output_type": "stream",
          "text": [
            "Collecting keras_sequential_ascii\n",
            "  Downloading https://files.pythonhosted.org/packages/2d/a4/806e3ed5d7ac7463e2fae77e09ccccc88c78266b248fb637e4efa4f65ec0/keras_sequential_ascii-0.1.1.tar.gz\n",
            "Requirement already satisfied: keras in /usr/local/lib/python3.6/dist-packages (from keras_sequential_ascii) (2.3.1)\n",
            "Requirement already satisfied: six>=1.9.0 in /usr/local/lib/python3.6/dist-packages (from keras->keras_sequential_ascii) (1.12.0)\n",
            "Requirement already satisfied: pyyaml in /usr/local/lib/python3.6/dist-packages (from keras->keras_sequential_ascii) (3.13)\n",
            "Requirement already satisfied: keras-preprocessing>=1.0.5 in /usr/local/lib/python3.6/dist-packages (from keras->keras_sequential_ascii) (1.1.0)\n",
            "Requirement already satisfied: numpy>=1.9.1 in /usr/local/lib/python3.6/dist-packages (from keras->keras_sequential_ascii) (1.18.4)\n",
            "Requirement already satisfied: keras-applications>=1.0.6 in /usr/local/lib/python3.6/dist-packages (from keras->keras_sequential_ascii) (1.0.8)\n",
            "Requirement already satisfied: h5py in /usr/local/lib/python3.6/dist-packages (from keras->keras_sequential_ascii) (2.10.0)\n",
            "Requirement already satisfied: scipy>=0.14 in /usr/local/lib/python3.6/dist-packages (from keras->keras_sequential_ascii) (1.4.1)\n",
            "Building wheels for collected packages: keras-sequential-ascii\n",
            "  Building wheel for keras-sequential-ascii (setup.py) ... \u001b[?25l\u001b[?25hdone\n",
            "  Created wheel for keras-sequential-ascii: filename=keras_sequential_ascii-0.1.1-cp36-none-any.whl size=3062 sha256=bfb79a28d34222464504ef7f2e0f4fa0a6d3736c58ccb632e15a87802e9f328a\n",
            "  Stored in directory: /root/.cache/pip/wheels/f5/8d/81/912666dff82a923ce423a7e797cd75f54271c7031512cdb282\n",
            "Successfully built keras-sequential-ascii\n",
            "Installing collected packages: keras-sequential-ascii\n",
            "Successfully installed keras-sequential-ascii-0.1.1\n"
          ],
          "name": "stdout"
        }
      ]
    },
    {
      "cell_type": "markdown",
      "metadata": {
        "id": "lgInGPPjunEa",
        "colab_type": "text"
      },
      "source": [
        "#Importing the dataset"
      ]
    },
    {
      "cell_type": "markdown",
      "metadata": {
        "id": "wuNUF9kwurlE",
        "colab_type": "text"
      },
      "source": [
        "Import the libraries"
      ]
    },
    {
      "cell_type": "code",
      "metadata": {
        "id": "A5Oe_6PeulJ1",
        "colab_type": "code",
        "colab": {}
      },
      "source": [
        "import pandas as pd\n",
        "import numpy as np\n",
        "import matplotlib.pyplot as plt\n",
        "from matplotlib import style\n",
        "style.use('ggplot')"
      ],
      "execution_count": 0,
      "outputs": []
    },
    {
      "cell_type": "markdown",
      "metadata": {
        "id": "66t1hTlTwP6n",
        "colab_type": "text"
      },
      "source": [
        "Import the dataset"
      ]
    },
    {
      "cell_type": "code",
      "metadata": {
        "id": "_NtCH9n1wO-5",
        "colab_type": "code",
        "outputId": "72853519-b841-47d5-95ce-e033be16b017",
        "colab": {
          "base_uri": "https://localhost:8080/",
          "height": 422
        }
      },
      "source": [
        "dataset=pd.read_csv(\"Skyserver_12_30_2019 4_49_58 PM.csv\")\n",
        "dataset"
      ],
      "execution_count": 0,
      "outputs": [
        {
          "output_type": "execute_result",
          "data": {
            "text/html": [
              "<div>\n",
              "<style scoped>\n",
              "    .dataframe tbody tr th:only-of-type {\n",
              "        vertical-align: middle;\n",
              "    }\n",
              "\n",
              "    .dataframe tbody tr th {\n",
              "        vertical-align: top;\n",
              "    }\n",
              "\n",
              "    .dataframe thead th {\n",
              "        text-align: right;\n",
              "    }\n",
              "</style>\n",
              "<table border=\"1\" class=\"dataframe\">\n",
              "  <thead>\n",
              "    <tr style=\"text-align: right;\">\n",
              "      <th></th>\n",
              "      <th>objid</th>\n",
              "      <th>ra</th>\n",
              "      <th>dec</th>\n",
              "      <th>u</th>\n",
              "      <th>g</th>\n",
              "      <th>r</th>\n",
              "      <th>i</th>\n",
              "      <th>z</th>\n",
              "      <th>run</th>\n",
              "      <th>rerun</th>\n",
              "      <th>camcol</th>\n",
              "      <th>field</th>\n",
              "      <th>specobjid</th>\n",
              "      <th>class</th>\n",
              "      <th>redshift</th>\n",
              "      <th>plate</th>\n",
              "      <th>mjd</th>\n",
              "      <th>fiberid</th>\n",
              "    </tr>\n",
              "  </thead>\n",
              "  <tbody>\n",
              "    <tr>\n",
              "      <th>0</th>\n",
              "      <td>1237666301628060000</td>\n",
              "      <td>47.372545</td>\n",
              "      <td>0.820621</td>\n",
              "      <td>18.69254</td>\n",
              "      <td>17.13867</td>\n",
              "      <td>16.55555</td>\n",
              "      <td>16.34662</td>\n",
              "      <td>16.17639</td>\n",
              "      <td>4849</td>\n",
              "      <td>301</td>\n",
              "      <td>5</td>\n",
              "      <td>771</td>\n",
              "      <td>8168632633242440000</td>\n",
              "      <td>STAR</td>\n",
              "      <td>0.000115</td>\n",
              "      <td>7255</td>\n",
              "      <td>56597</td>\n",
              "      <td>832</td>\n",
              "    </tr>\n",
              "    <tr>\n",
              "      <th>1</th>\n",
              "      <td>1237673706652430000</td>\n",
              "      <td>116.303083</td>\n",
              "      <td>42.455980</td>\n",
              "      <td>18.47633</td>\n",
              "      <td>17.30546</td>\n",
              "      <td>17.24116</td>\n",
              "      <td>17.32780</td>\n",
              "      <td>17.37114</td>\n",
              "      <td>6573</td>\n",
              "      <td>301</td>\n",
              "      <td>6</td>\n",
              "      <td>220</td>\n",
              "      <td>9333948945297330000</td>\n",
              "      <td>STAR</td>\n",
              "      <td>-0.000093</td>\n",
              "      <td>8290</td>\n",
              "      <td>57364</td>\n",
              "      <td>868</td>\n",
              "    </tr>\n",
              "    <tr>\n",
              "      <th>2</th>\n",
              "      <td>1237671126974140000</td>\n",
              "      <td>172.756623</td>\n",
              "      <td>-8.785698</td>\n",
              "      <td>16.47714</td>\n",
              "      <td>15.31072</td>\n",
              "      <td>15.55971</td>\n",
              "      <td>15.72207</td>\n",
              "      <td>15.82471</td>\n",
              "      <td>5973</td>\n",
              "      <td>301</td>\n",
              "      <td>1</td>\n",
              "      <td>13</td>\n",
              "      <td>3221211255238850000</td>\n",
              "      <td>STAR</td>\n",
              "      <td>0.000165</td>\n",
              "      <td>2861</td>\n",
              "      <td>54583</td>\n",
              "      <td>42</td>\n",
              "    </tr>\n",
              "    <tr>\n",
              "      <th>3</th>\n",
              "      <td>1237665441518260000</td>\n",
              "      <td>201.224207</td>\n",
              "      <td>28.771290</td>\n",
              "      <td>18.63561</td>\n",
              "      <td>16.88346</td>\n",
              "      <td>16.09825</td>\n",
              "      <td>15.70987</td>\n",
              "      <td>15.43491</td>\n",
              "      <td>4649</td>\n",
              "      <td>301</td>\n",
              "      <td>3</td>\n",
              "      <td>121</td>\n",
              "      <td>2254061292459420000</td>\n",
              "      <td>GALAXY</td>\n",
              "      <td>0.058155</td>\n",
              "      <td>2002</td>\n",
              "      <td>53471</td>\n",
              "      <td>35</td>\n",
              "    </tr>\n",
              "    <tr>\n",
              "      <th>4</th>\n",
              "      <td>1237665441522840000</td>\n",
              "      <td>212.817222</td>\n",
              "      <td>26.625225</td>\n",
              "      <td>18.88325</td>\n",
              "      <td>17.87948</td>\n",
              "      <td>17.47037</td>\n",
              "      <td>17.17441</td>\n",
              "      <td>17.05235</td>\n",
              "      <td>4649</td>\n",
              "      <td>301</td>\n",
              "      <td>3</td>\n",
              "      <td>191</td>\n",
              "      <td>2390305906828010000</td>\n",
              "      <td>GALAXY</td>\n",
              "      <td>0.072210</td>\n",
              "      <td>2123</td>\n",
              "      <td>53793</td>\n",
              "      <td>74</td>\n",
              "    </tr>\n",
              "    <tr>\n",
              "      <th>...</th>\n",
              "      <td>...</td>\n",
              "      <td>...</td>\n",
              "      <td>...</td>\n",
              "      <td>...</td>\n",
              "      <td>...</td>\n",
              "      <td>...</td>\n",
              "      <td>...</td>\n",
              "      <td>...</td>\n",
              "      <td>...</td>\n",
              "      <td>...</td>\n",
              "      <td>...</td>\n",
              "      <td>...</td>\n",
              "      <td>...</td>\n",
              "      <td>...</td>\n",
              "      <td>...</td>\n",
              "      <td>...</td>\n",
              "      <td>...</td>\n",
              "      <td>...</td>\n",
              "    </tr>\n",
              "    <tr>\n",
              "      <th>99995</th>\n",
              "      <td>1237667968033620000</td>\n",
              "      <td>228.674917</td>\n",
              "      <td>19.179460</td>\n",
              "      <td>19.32631</td>\n",
              "      <td>18.82748</td>\n",
              "      <td>18.65659</td>\n",
              "      <td>18.60481</td>\n",
              "      <td>18.60917</td>\n",
              "      <td>5237</td>\n",
              "      <td>301</td>\n",
              "      <td>5</td>\n",
              "      <td>134</td>\n",
              "      <td>4448615345201370000</td>\n",
              "      <td>QSO</td>\n",
              "      <td>0.438182</td>\n",
              "      <td>3951</td>\n",
              "      <td>55681</td>\n",
              "      <td>672</td>\n",
              "    </tr>\n",
              "    <tr>\n",
              "      <th>99996</th>\n",
              "      <td>1237664818210470000</td>\n",
              "      <td>173.757382</td>\n",
              "      <td>36.441603</td>\n",
              "      <td>18.33687</td>\n",
              "      <td>17.30365</td>\n",
              "      <td>17.16037</td>\n",
              "      <td>17.14895</td>\n",
              "      <td>17.14419</td>\n",
              "      <td>4504</td>\n",
              "      <td>301</td>\n",
              "      <td>2</td>\n",
              "      <td>111</td>\n",
              "      <td>2265404129658560000</td>\n",
              "      <td>STAR</td>\n",
              "      <td>-0.000497</td>\n",
              "      <td>2012</td>\n",
              "      <td>53493</td>\n",
              "      <td>340</td>\n",
              "    </tr>\n",
              "    <tr>\n",
              "      <th>99997</th>\n",
              "      <td>1237664295297290000</td>\n",
              "      <td>205.426531</td>\n",
              "      <td>38.499053</td>\n",
              "      <td>17.50690</td>\n",
              "      <td>15.63152</td>\n",
              "      <td>15.22328</td>\n",
              "      <td>15.04469</td>\n",
              "      <td>15.28668</td>\n",
              "      <td>4382</td>\n",
              "      <td>301</td>\n",
              "      <td>4</td>\n",
              "      <td>97</td>\n",
              "      <td>2257446413900210000</td>\n",
              "      <td>GALAXY</td>\n",
              "      <td>0.004587</td>\n",
              "      <td>2005</td>\n",
              "      <td>53472</td>\n",
              "      <td>62</td>\n",
              "    </tr>\n",
              "    <tr>\n",
              "      <th>99998</th>\n",
              "      <td>1237656537513130000</td>\n",
              "      <td>337.135144</td>\n",
              "      <td>-9.635967</td>\n",
              "      <td>19.33946</td>\n",
              "      <td>17.21436</td>\n",
              "      <td>16.29697</td>\n",
              "      <td>15.86745</td>\n",
              "      <td>15.51556</td>\n",
              "      <td>2576</td>\n",
              "      <td>301</td>\n",
              "      <td>2</td>\n",
              "      <td>105</td>\n",
              "      <td>811847537492257000</td>\n",
              "      <td>GALAXY</td>\n",
              "      <td>0.084538</td>\n",
              "      <td>721</td>\n",
              "      <td>52228</td>\n",
              "      <td>268</td>\n",
              "    </tr>\n",
              "    <tr>\n",
              "      <th>99999</th>\n",
              "      <td>1237670459113730000</td>\n",
              "      <td>37.440188</td>\n",
              "      <td>25.400888</td>\n",
              "      <td>18.11769</td>\n",
              "      <td>16.86279</td>\n",
              "      <td>16.31057</td>\n",
              "      <td>16.07582</td>\n",
              "      <td>15.94701</td>\n",
              "      <td>5817</td>\n",
              "      <td>301</td>\n",
              "      <td>5</td>\n",
              "      <td>120</td>\n",
              "      <td>2678586035360790000</td>\n",
              "      <td>STAR</td>\n",
              "      <td>-0.000085</td>\n",
              "      <td>2379</td>\n",
              "      <td>53762</td>\n",
              "      <td>255</td>\n",
              "    </tr>\n",
              "  </tbody>\n",
              "</table>\n",
              "<p>100000 rows × 18 columns</p>\n",
              "</div>"
            ],
            "text/plain": [
              "                     objid          ra        dec  ...  plate    mjd  fiberid\n",
              "0      1237666301628060000   47.372545   0.820621  ...   7255  56597      832\n",
              "1      1237673706652430000  116.303083  42.455980  ...   8290  57364      868\n",
              "2      1237671126974140000  172.756623  -8.785698  ...   2861  54583       42\n",
              "3      1237665441518260000  201.224207  28.771290  ...   2002  53471       35\n",
              "4      1237665441522840000  212.817222  26.625225  ...   2123  53793       74\n",
              "...                    ...         ...        ...  ...    ...    ...      ...\n",
              "99995  1237667968033620000  228.674917  19.179460  ...   3951  55681      672\n",
              "99996  1237664818210470000  173.757382  36.441603  ...   2012  53493      340\n",
              "99997  1237664295297290000  205.426531  38.499053  ...   2005  53472       62\n",
              "99998  1237656537513130000  337.135144  -9.635967  ...    721  52228      268\n",
              "99999  1237670459113730000   37.440188  25.400888  ...   2379  53762      255\n",
              "\n",
              "[100000 rows x 18 columns]"
            ]
          },
          "metadata": {
            "tags": []
          },
          "execution_count": 36
        }
      ]
    },
    {
      "cell_type": "markdown",
      "metadata": {
        "id": "3TXB_5_UZ6bf",
        "colab_type": "text"
      },
      "source": [
        "Dropping unnecessary columns which do not contribute to the classification of a celestial object."
      ]
    },
    {
      "cell_type": "code",
      "metadata": {
        "id": "vS6WFKHMwfjx",
        "colab_type": "code",
        "colab": {}
      },
      "source": [
        "dataset.drop(columns=['objid','specobjid','fiberid','rerun','mjd','run','camcol','field','plate'],inplace=True)"
      ],
      "execution_count": 0,
      "outputs": []
    },
    {
      "cell_type": "code",
      "metadata": {
        "id": "zlFjLX11btZo",
        "colab_type": "code",
        "outputId": "3ad56fd4-ae54-4d95-94a2-b0cfce4fb796",
        "colab": {
          "base_uri": "https://localhost:8080/",
          "height": 402
        }
      },
      "source": [
        "dataset"
      ],
      "execution_count": 0,
      "outputs": [
        {
          "output_type": "execute_result",
          "data": {
            "text/html": [
              "<div>\n",
              "<style scoped>\n",
              "    .dataframe tbody tr th:only-of-type {\n",
              "        vertical-align: middle;\n",
              "    }\n",
              "\n",
              "    .dataframe tbody tr th {\n",
              "        vertical-align: top;\n",
              "    }\n",
              "\n",
              "    .dataframe thead th {\n",
              "        text-align: right;\n",
              "    }\n",
              "</style>\n",
              "<table border=\"1\" class=\"dataframe\">\n",
              "  <thead>\n",
              "    <tr style=\"text-align: right;\">\n",
              "      <th></th>\n",
              "      <th>ra</th>\n",
              "      <th>dec</th>\n",
              "      <th>u</th>\n",
              "      <th>g</th>\n",
              "      <th>r</th>\n",
              "      <th>i</th>\n",
              "      <th>z</th>\n",
              "      <th>class</th>\n",
              "      <th>redshift</th>\n",
              "    </tr>\n",
              "  </thead>\n",
              "  <tbody>\n",
              "    <tr>\n",
              "      <th>0</th>\n",
              "      <td>47.372545</td>\n",
              "      <td>0.820621</td>\n",
              "      <td>18.69254</td>\n",
              "      <td>17.13867</td>\n",
              "      <td>16.55555</td>\n",
              "      <td>16.34662</td>\n",
              "      <td>16.17639</td>\n",
              "      <td>STAR</td>\n",
              "      <td>0.000115</td>\n",
              "    </tr>\n",
              "    <tr>\n",
              "      <th>1</th>\n",
              "      <td>116.303083</td>\n",
              "      <td>42.455980</td>\n",
              "      <td>18.47633</td>\n",
              "      <td>17.30546</td>\n",
              "      <td>17.24116</td>\n",
              "      <td>17.32780</td>\n",
              "      <td>17.37114</td>\n",
              "      <td>STAR</td>\n",
              "      <td>-0.000093</td>\n",
              "    </tr>\n",
              "    <tr>\n",
              "      <th>2</th>\n",
              "      <td>172.756623</td>\n",
              "      <td>-8.785698</td>\n",
              "      <td>16.47714</td>\n",
              "      <td>15.31072</td>\n",
              "      <td>15.55971</td>\n",
              "      <td>15.72207</td>\n",
              "      <td>15.82471</td>\n",
              "      <td>STAR</td>\n",
              "      <td>0.000165</td>\n",
              "    </tr>\n",
              "    <tr>\n",
              "      <th>3</th>\n",
              "      <td>201.224207</td>\n",
              "      <td>28.771290</td>\n",
              "      <td>18.63561</td>\n",
              "      <td>16.88346</td>\n",
              "      <td>16.09825</td>\n",
              "      <td>15.70987</td>\n",
              "      <td>15.43491</td>\n",
              "      <td>GALAXY</td>\n",
              "      <td>0.058155</td>\n",
              "    </tr>\n",
              "    <tr>\n",
              "      <th>4</th>\n",
              "      <td>212.817222</td>\n",
              "      <td>26.625225</td>\n",
              "      <td>18.88325</td>\n",
              "      <td>17.87948</td>\n",
              "      <td>17.47037</td>\n",
              "      <td>17.17441</td>\n",
              "      <td>17.05235</td>\n",
              "      <td>GALAXY</td>\n",
              "      <td>0.072210</td>\n",
              "    </tr>\n",
              "    <tr>\n",
              "      <th>...</th>\n",
              "      <td>...</td>\n",
              "      <td>...</td>\n",
              "      <td>...</td>\n",
              "      <td>...</td>\n",
              "      <td>...</td>\n",
              "      <td>...</td>\n",
              "      <td>...</td>\n",
              "      <td>...</td>\n",
              "      <td>...</td>\n",
              "    </tr>\n",
              "    <tr>\n",
              "      <th>99995</th>\n",
              "      <td>228.674917</td>\n",
              "      <td>19.179460</td>\n",
              "      <td>19.32631</td>\n",
              "      <td>18.82748</td>\n",
              "      <td>18.65659</td>\n",
              "      <td>18.60481</td>\n",
              "      <td>18.60917</td>\n",
              "      <td>QSO</td>\n",
              "      <td>0.438182</td>\n",
              "    </tr>\n",
              "    <tr>\n",
              "      <th>99996</th>\n",
              "      <td>173.757382</td>\n",
              "      <td>36.441603</td>\n",
              "      <td>18.33687</td>\n",
              "      <td>17.30365</td>\n",
              "      <td>17.16037</td>\n",
              "      <td>17.14895</td>\n",
              "      <td>17.14419</td>\n",
              "      <td>STAR</td>\n",
              "      <td>-0.000497</td>\n",
              "    </tr>\n",
              "    <tr>\n",
              "      <th>99997</th>\n",
              "      <td>205.426531</td>\n",
              "      <td>38.499053</td>\n",
              "      <td>17.50690</td>\n",
              "      <td>15.63152</td>\n",
              "      <td>15.22328</td>\n",
              "      <td>15.04469</td>\n",
              "      <td>15.28668</td>\n",
              "      <td>GALAXY</td>\n",
              "      <td>0.004587</td>\n",
              "    </tr>\n",
              "    <tr>\n",
              "      <th>99998</th>\n",
              "      <td>337.135144</td>\n",
              "      <td>-9.635967</td>\n",
              "      <td>19.33946</td>\n",
              "      <td>17.21436</td>\n",
              "      <td>16.29697</td>\n",
              "      <td>15.86745</td>\n",
              "      <td>15.51556</td>\n",
              "      <td>GALAXY</td>\n",
              "      <td>0.084538</td>\n",
              "    </tr>\n",
              "    <tr>\n",
              "      <th>99999</th>\n",
              "      <td>37.440188</td>\n",
              "      <td>25.400888</td>\n",
              "      <td>18.11769</td>\n",
              "      <td>16.86279</td>\n",
              "      <td>16.31057</td>\n",
              "      <td>16.07582</td>\n",
              "      <td>15.94701</td>\n",
              "      <td>STAR</td>\n",
              "      <td>-0.000085</td>\n",
              "    </tr>\n",
              "  </tbody>\n",
              "</table>\n",
              "<p>100000 rows × 9 columns</p>\n",
              "</div>"
            ],
            "text/plain": [
              "               ra        dec         u  ...         z   class  redshift\n",
              "0       47.372545   0.820621  18.69254  ...  16.17639    STAR  0.000115\n",
              "1      116.303083  42.455980  18.47633  ...  17.37114    STAR -0.000093\n",
              "2      172.756623  -8.785698  16.47714  ...  15.82471    STAR  0.000165\n",
              "3      201.224207  28.771290  18.63561  ...  15.43491  GALAXY  0.058155\n",
              "4      212.817222  26.625225  18.88325  ...  17.05235  GALAXY  0.072210\n",
              "...           ...        ...       ...  ...       ...     ...       ...\n",
              "99995  228.674917  19.179460  19.32631  ...  18.60917     QSO  0.438182\n",
              "99996  173.757382  36.441603  18.33687  ...  17.14419    STAR -0.000497\n",
              "99997  205.426531  38.499053  17.50690  ...  15.28668  GALAXY  0.004587\n",
              "99998  337.135144  -9.635967  19.33946  ...  15.51556  GALAXY  0.084538\n",
              "99999   37.440188  25.400888  18.11769  ...  15.94701    STAR -0.000085\n",
              "\n",
              "[100000 rows x 9 columns]"
            ]
          },
          "metadata": {
            "tags": []
          },
          "execution_count": 38
        }
      ]
    },
    {
      "cell_type": "markdown",
      "metadata": {
        "id": "fbmrKV5jb6SQ",
        "colab_type": "text"
      },
      "source": [
        "Let us see if the dataset is balanced or not ."
      ]
    },
    {
      "cell_type": "code",
      "metadata": {
        "id": "W-U3Nvg_bvih",
        "colab_type": "code",
        "outputId": "f6022728-fd94-40e8-c655-5d8036026d9c",
        "colab": {
          "base_uri": "https://localhost:8080/",
          "height": 315
        }
      },
      "source": [
        "fig=plt.figure()\n",
        "ax=fig.add_subplot(1,1,1)\n",
        "ax.hist(dataset[\"class\"],bins=3,rwidth=0.85)"
      ],
      "execution_count": 0,
      "outputs": [
        {
          "output_type": "execute_result",
          "data": {
            "text/plain": [
              "(array([38096., 51323., 10581.]),\n",
              " array([0.        , 0.66666667, 1.33333333, 2.        ]),\n",
              " <a list of 3 Patch objects>)"
            ]
          },
          "metadata": {
            "tags": []
          },
          "execution_count": 39
        },
        {
          "output_type": "display_data",
          "data": {
            "image/png": "[encoded data removed]",
            "text/plain": [
              "<Figure size 432x288 with 1 Axes>"
            ]
          },
          "metadata": {
            "tags": []
          }
        }
      ]
    },
    {
      "cell_type": "markdown",
      "metadata": {
        "id": "PQ9bQLYAexaK",
        "colab_type": "text"
      },
      "source": [
        "Clearly the dataset is not balanced , but we will continue and see how it will affect the classification of the celestial objects"
      ]
    },
    {
      "cell_type": "markdown",
      "metadata": {
        "id": "zUVV_8W7fJe6",
        "colab_type": "text"
      },
      "source": [
        "#Data Preprocessing"
      ]
    },
    {
      "cell_type": "markdown",
      "metadata": {
        "id": "CZ1GdoJrpx1c",
        "colab_type": "text"
      },
      "source": [
        "###Seperating the matrix of features and the dependent variable"
      ]
    },
    {
      "cell_type": "code",
      "metadata": {
        "id": "cnxFz_fOe7hJ",
        "colab_type": "code",
        "colab": {}
      },
      "source": [
        "y=dataset.iloc[:,[7]].values\n",
        "dataset.drop(columns='class',inplace=True)\n",
        "X=dataset.values"
      ],
      "execution_count": 0,
      "outputs": []
    },
    {
      "cell_type": "code",
      "metadata": {
        "id": "QyM0ZOiKnR8v",
        "colab_type": "code",
        "outputId": "4d17e038-07a6-4b18-d93d-e5f100f01662",
        "colab": {
          "base_uri": "https://localhost:8080/",
          "height": 134
        }
      },
      "source": [
        "y"
      ],
      "execution_count": 0,
      "outputs": [
        {
          "output_type": "execute_result",
          "data": {
            "text/plain": [
              "array([['STAR'],\n",
              "       ['STAR'],\n",
              "       ['STAR'],\n",
              "       ...,\n",
              "       ['GALAXY'],\n",
              "       ['GALAXY'],\n",
              "       ['STAR']], dtype=object)"
            ]
          },
          "metadata": {
            "tags": []
          },
          "execution_count": 41
        }
      ]
    },
    {
      "cell_type": "code",
      "metadata": {
        "id": "Bg-Wes-GnrCL",
        "colab_type": "code",
        "outputId": "68665812-6166-4923-b7a4-4c97120fd9f0",
        "colab": {
          "base_uri": "https://localhost:8080/",
          "height": 235
        }
      },
      "source": [
        "X"
      ],
      "execution_count": 0,
      "outputs": [
        {
          "output_type": "execute_result",
          "data": {
            "text/plain": [
              "array([[ 4.73725449e+01,  8.20620553e-01,  1.86925400e+01, ...,\n",
              "         1.63466200e+01,  1.61763900e+01,  1.14653600e-04],\n",
              "       [ 1.16303083e+02,  4.24559804e+01,  1.84763300e+01, ...,\n",
              "         1.73278000e+01,  1.73711400e+01, -9.27588800e-05],\n",
              "       [ 1.72756623e+02, -8.78569788e+00,  1.64771400e+01, ...,\n",
              "         1.57220700e+01,  1.58247100e+01,  1.64580700e-04],\n",
              "       ...,\n",
              "       [ 2.05426531e+02,  3.84990534e+01,  1.75069000e+01, ...,\n",
              "         1.50446900e+01,  1.52866800e+01,  4.58666300e-03],\n",
              "       [ 3.37135144e+02, -9.63596714e+00,  1.93394600e+01, ...,\n",
              "         1.58674500e+01,  1.55155600e+01,  8.45376500e-02],\n",
              "       [ 3.74401880e+01,  2.54008880e+01,  1.81176900e+01, ...,\n",
              "         1.60758200e+01,  1.59470100e+01, -8.46093100e-05]])"
            ]
          },
          "metadata": {
            "tags": []
          },
          "execution_count": 42
        }
      ]
    },
    {
      "cell_type": "markdown",
      "metadata": {
        "id": "9iqM_Rj1s6zf",
        "colab_type": "text"
      },
      "source": [
        "###Encoding the dependent variable"
      ]
    },
    {
      "cell_type": "code",
      "metadata": {
        "id": "b-nCj35lntO4",
        "colab_type": "code",
        "outputId": "4dd78561-da1a-4000-e52b-9f81e71ff7d0",
        "colab": {
          "base_uri": "https://localhost:8080/",
          "height": 70
        }
      },
      "source": [
        "from sklearn.preprocessing import LabelEncoder\n",
        "label_encoder=LabelEncoder()\n",
        "y=label_encoder.fit_transform(y)"
      ],
      "execution_count": 0,
      "outputs": [
        {
          "output_type": "stream",
          "text": [
            "/usr/local/lib/python3.6/dist-packages/sklearn/preprocessing/_label.py:251: DataConversionWarning: A column-vector y was passed when a 1d array was expected. Please change the shape of y to (n_samples, ), for example using ravel().\n",
            "  y = column_or_1d(y, warn=True)\n"
          ],
          "name": "stderr"
        }
      ]
    },
    {
      "cell_type": "code",
      "metadata": {
        "id": "BjKDqQUluVe0",
        "colab_type": "code",
        "outputId": "1219b4d7-334f-4381-fed5-be10d14c44aa",
        "colab": {
          "base_uri": "https://localhost:8080/",
          "height": 34
        }
      },
      "source": [
        "y"
      ],
      "execution_count": 0,
      "outputs": [
        {
          "output_type": "execute_result",
          "data": {
            "text/plain": [
              "array([2, 2, 2, ..., 0, 0, 2])"
            ]
          },
          "metadata": {
            "tags": []
          },
          "execution_count": 54
        }
      ]
    },
    {
      "cell_type": "markdown",
      "metadata": {
        "id": "bdkt1iARutj8",
        "colab_type": "text"
      },
      "source": [
        "###Splitting the dataset into training set and test set"
      ]
    },
    {
      "cell_type": "code",
      "metadata": {
        "id": "AMDqVyJyuV8m",
        "colab_type": "code",
        "colab": {}
      },
      "source": [
        "from sklearn.model_selection import train_test_split\n",
        "X_train,X_test,y_train,y_test=train_test_split(X,y,test_size=0.2,random_state=1)"
      ],
      "execution_count": 0,
      "outputs": []
    },
    {
      "cell_type": "markdown",
      "metadata": {
        "id": "aPnXmh5fvRqE",
        "colab_type": "text"
      },
      "source": [
        "### Applying feature scaling to ease computation "
      ]
    },
    {
      "cell_type": "code",
      "metadata": {
        "id": "15n2poEBvPFd",
        "colab_type": "code",
        "colab": {}
      },
      "source": [
        "from sklearn.preprocessing import StandardScaler\n",
        "sc_X=StandardScaler()\n",
        "X_train=sc_X.fit_transform(X_train)\n",
        "X_test=sc_X.transform(X_test)"
      ],
      "execution_count": 0,
      "outputs": []
    },
    {
      "cell_type": "markdown",
      "metadata": {
        "id": "1ca6v_eXv7qi",
        "colab_type": "text"
      },
      "source": [
        "#Designing the neural network"
      ]
    },
    {
      "cell_type": "code",
      "metadata": {
        "id": "YJf7Mg7Ovz_4",
        "colab_type": "code",
        "colab": {}
      },
      "source": [
        "from keras.models import Sequential\n",
        "from keras.layers import Dense,Dropout\n",
        "import keras "
      ],
      "execution_count": 0,
      "outputs": []
    },
    {
      "cell_type": "markdown",
      "metadata": {
        "id": "pyS1LTx8wQSM",
        "colab_type": "text"
      },
      "source": [
        "**Iterative program  to give the neural network:**\n",
        "The objective of the following iteration is to see the effect the adding hidden layers to neural network. We have defined a list that contains the number of hidden layers to be added in each iteration. Essentially this program creates diffrent neural networks with different number of hidden layers ."
      ]
    },
    {
      "cell_type": "code",
      "metadata": {
        "id": "YcsQ5mcy3DaU",
        "colab_type": "code",
        "outputId": "ac03aeab-0ba6-460b-918d-74110c36fc61",
        "colab": {
          "base_uri": "https://localhost:8080/",
          "height": 1000
        }
      },
      "source": [
        "layers=[1,3,5,7,9,10]\n",
        "\n",
        "for i in range(len(layers)):\n",
        "  print(\"This is the \",i+1,\" iteration for finding the better neural network.\")\n",
        "  classifier=Sequential() #initialising the neural network\n",
        "  classifier.add(Dense(output_dim=5,init='uniform',activation='relu',input_dim=8)) #making the input layer\n",
        "  hidden_layers=layers[i]\n",
        "\n",
        "  for i in range(hidden_layers):\n",
        "    classifier.add(Dense(output_dim=10,init='uniform',activation='relu')) #iteration for adding different numbers of hidden layers\n",
        "    classifier.add(Dropout(0.1)) #dropout , to randomly remove neurons in each layer so as to avoid overfitting\n",
        "\n",
        "  classifier.add(Dense(output_dim=3,init='uniform',activation='softmax')) #making the output layer\n",
        "  optimizer=keras.optimizers.Adam(lr=0.001,decay=1e-6) #defining the optimizer \n",
        "\n",
        "  classifier.compile(loss='sparse_categorical_crossentropy',optimizer=optimizer,metrics=['accuracy']) #compiling the neural network\n",
        "  classifier.fit(X_train,y_train,batch_size=10,epochs=10,validation_data=(X_test,y_test)) #fitting the classifier"
      ],
      "execution_count": 0,
      "outputs": [
        {
          "output_type": "stream",
          "text": [
            "This is the  1 th iteration for finding the better neural network.\n"
          ],
          "name": "stdout"
        },
        {
          "output_type": "stream",
          "text": [
            "/usr/local/lib/python3.6/dist-packages/ipykernel_launcher.py:5: UserWarning: Update your `Dense` call to the Keras 2 API: `Dense(activation=\"relu\", input_dim=8, units=5, kernel_initializer=\"uniform\")`\n",
            "  \"\"\"\n",
            "/usr/local/lib/python3.6/dist-packages/ipykernel_launcher.py:8: UserWarning: Update your `Dense` call to the Keras 2 API: `Dense(activation=\"relu\", units=10, kernel_initializer=\"uniform\")`\n",
            "  \n",
            "/usr/local/lib/python3.6/dist-packages/ipykernel_launcher.py:10: UserWarning: Update your `Dense` call to the Keras 2 API: `Dense(activation=\"softmax\", units=3, kernel_initializer=\"uniform\")`\n",
            "  # Remove the CWD from sys.path while we load stuff.\n"
          ],
          "name": "stderr"
        },
        {
          "output_type": "stream",
          "text": [
            "Train on 80000 samples, validate on 20000 samples\n",
            "Epoch 1/10\n",
            "80000/80000 [==============================] - 36s 448us/step - loss: 0.5013 - accuracy: 0.7931 - val_loss: 0.1662 - val_accuracy: 0.9647\n",
            "Epoch 2/10\n",
            "80000/80000 [==============================] - 34s 420us/step - loss: 0.1616 - accuracy: 0.9558 - val_loss: 0.0996 - val_accuracy: 0.9761\n",
            "Epoch 3/10\n",
            "80000/80000 [==============================] - 35s 436us/step - loss: 0.1138 - accuracy: 0.9735 - val_loss: 0.0915 - val_accuracy: 0.9754\n",
            "Epoch 4/10\n",
            "80000/80000 [==============================] - 34s 422us/step - loss: 0.1008 - accuracy: 0.9755 - val_loss: 0.0843 - val_accuracy: 0.9791\n",
            "Epoch 5/10\n",
            "80000/80000 [==============================] - 33s 415us/step - loss: 0.0931 - accuracy: 0.9770 - val_loss: 0.0718 - val_accuracy: 0.9843\n",
            "Epoch 6/10\n",
            "80000/80000 [==============================] - 34s 422us/step - loss: 0.0886 - accuracy: 0.9783 - val_loss: 0.0686 - val_accuracy: 0.9829\n",
            "Epoch 7/10\n",
            "80000/80000 [==============================] - 35s 431us/step - loss: 0.0854 - accuracy: 0.9782 - val_loss: 0.0658 - val_accuracy: 0.9844\n",
            "Epoch 8/10\n",
            "80000/80000 [==============================] - 33s 416us/step - loss: 0.0825 - accuracy: 0.9793 - val_loss: 0.0616 - val_accuracy: 0.9858\n",
            "Epoch 9/10\n",
            "80000/80000 [==============================] - 34s 419us/step - loss: 0.0795 - accuracy: 0.9800 - val_loss: 0.0592 - val_accuracy: 0.9858\n",
            "Epoch 10/10\n",
            "80000/80000 [==============================] - 33s 418us/step - loss: 0.0789 - accuracy: 0.9806 - val_loss: 0.0749 - val_accuracy: 0.9804\n",
            "This is the  2 th iteration for finding the better neural network.\n",
            "Train on 80000 samples, validate on 20000 samples\n",
            "Epoch 1/10\n",
            "80000/80000 [==============================] - 42s 526us/step - loss: 0.6641 - accuracy: 0.7223 - val_loss: 0.5619 - val_accuracy: 0.7910\n",
            "Epoch 2/10\n",
            "80000/80000 [==============================] - 42s 530us/step - loss: 0.5446 - accuracy: 0.8092 - val_loss: 0.3359 - val_accuracy: 0.9075\n",
            "Epoch 3/10\n",
            "80000/80000 [==============================] - 42s 523us/step - loss: 0.3701 - accuracy: 0.8946 - val_loss: 0.2187 - val_accuracy: 0.9424\n",
            "Epoch 4/10\n",
            "80000/80000 [==============================] - 42s 522us/step - loss: 0.2599 - accuracy: 0.9273 - val_loss: 0.1376 - val_accuracy: 0.9617\n",
            "Epoch 5/10\n",
            "80000/80000 [==============================] - 42s 530us/step - loss: 0.1799 - accuracy: 0.9527 - val_loss: 0.0853 - val_accuracy: 0.9800\n",
            "Epoch 6/10\n",
            "80000/80000 [==============================] - 42s 526us/step - loss: 0.1294 - accuracy: 0.9658 - val_loss: 0.0685 - val_accuracy: 0.9840\n",
            "Epoch 7/10\n",
            "80000/80000 [==============================] - 42s 521us/step - loss: 0.1166 - accuracy: 0.9691 - val_loss: 0.0624 - val_accuracy: 0.9840\n",
            "Epoch 8/10\n",
            "80000/80000 [==============================] - 42s 526us/step - loss: 0.1075 - accuracy: 0.9709 - val_loss: 0.0576 - val_accuracy: 0.9857\n",
            "Epoch 9/10\n",
            "80000/80000 [==============================] - 43s 533us/step - loss: 0.1051 - accuracy: 0.9713 - val_loss: 0.0616 - val_accuracy: 0.9858\n",
            "Epoch 10/10\n",
            "80000/80000 [==============================] - 42s 523us/step - loss: 0.1018 - accuracy: 0.9727 - val_loss: 0.0697 - val_accuracy: 0.9808\n",
            "This is the  3 th iteration for finding the better neural network.\n",
            "Train on 80000 samples, validate on 20000 samples\n",
            "Epoch 1/10\n",
            "80000/80000 [==============================] - 50s 619us/step - loss: 0.4800 - accuracy: 0.8214 - val_loss: 0.1828 - val_accuracy: 0.9772\n",
            "Epoch 2/10\n",
            "80000/80000 [==============================] - 50s 622us/step - loss: 0.2387 - accuracy: 0.9505 - val_loss: 0.1450 - val_accuracy: 0.9758\n",
            "Epoch 3/10\n",
            "80000/80000 [==============================] - 50s 619us/step - loss: 0.1981 - accuracy: 0.9549 - val_loss: 0.1221 - val_accuracy: 0.9785\n",
            "Epoch 4/10\n",
            "80000/80000 [==============================] - 49s 617us/step - loss: 0.1691 - accuracy: 0.9642 - val_loss: 0.1010 - val_accuracy: 0.9801\n",
            "Epoch 5/10\n",
            "80000/80000 [==============================] - 49s 615us/step - loss: 0.1395 - accuracy: 0.9698 - val_loss: 0.0950 - val_accuracy: 0.9796\n",
            "Epoch 6/10\n",
            "80000/80000 [==============================] - 50s 630us/step - loss: 0.1306 - accuracy: 0.9718 - val_loss: 0.1155 - val_accuracy: 0.9619\n",
            "Epoch 7/10\n",
            "80000/80000 [==============================] - 49s 616us/step - loss: 0.1209 - accuracy: 0.9745 - val_loss: 0.0882 - val_accuracy: 0.9802\n",
            "Epoch 8/10\n",
            "80000/80000 [==============================] - 50s 622us/step - loss: 0.1140 - accuracy: 0.9751 - val_loss: 0.0631 - val_accuracy: 0.9841\n",
            "Epoch 9/10\n",
            "80000/80000 [==============================] - 49s 616us/step - loss: 0.1067 - accuracy: 0.9765 - val_loss: 0.0629 - val_accuracy: 0.9853\n",
            "Epoch 10/10\n",
            "80000/80000 [==============================] - 49s 616us/step - loss: 0.1030 - accuracy: 0.9770 - val_loss: 0.0851 - val_accuracy: 0.9794\n",
            "This is the  4 th iteration for finding the better neural network.\n",
            "Train on 80000 samples, validate on 20000 samples\n",
            "Epoch 1/10\n",
            "80000/80000 [==============================] - 58s 728us/step - loss: 0.6688 - accuracy: 0.7211 - val_loss: 0.5019 - val_accuracy: 0.8291\n",
            "Epoch 2/10\n",
            "80000/80000 [==============================] - 59s 732us/step - loss: 0.3580 - accuracy: 0.9020 - val_loss: 0.1643 - val_accuracy: 0.9724\n",
            "Epoch 3/10\n",
            "80000/80000 [==============================] - 58s 727us/step - loss: 0.2349 - accuracy: 0.9420 - val_loss: 0.1379 - val_accuracy: 0.9764\n",
            "Epoch 4/10\n",
            "80000/80000 [==============================] - 58s 730us/step - loss: 0.2206 - accuracy: 0.9446 - val_loss: 0.2061 - val_accuracy: 0.9600\n",
            "Epoch 5/10\n",
            "80000/80000 [==============================] - 58s 728us/step - loss: 0.2247 - accuracy: 0.9414 - val_loss: 0.1399 - val_accuracy: 0.9737\n",
            "Epoch 6/10\n",
            "80000/80000 [==============================] - 58s 725us/step - loss: 0.2092 - accuracy: 0.9467 - val_loss: 0.1575 - val_accuracy: 0.9704\n",
            "Epoch 7/10\n",
            "80000/80000 [==============================] - 59s 736us/step - loss: 0.2150 - accuracy: 0.9453 - val_loss: 0.1284 - val_accuracy: 0.9741\n",
            "Epoch 8/10\n",
            "80000/80000 [==============================] - 58s 729us/step - loss: 0.1944 - accuracy: 0.9507 - val_loss: 0.1164 - val_accuracy: 0.9796\n",
            "Epoch 9/10\n",
            "80000/80000 [==============================] - 58s 729us/step - loss: 0.1840 - accuracy: 0.9549 - val_loss: 0.1123 - val_accuracy: 0.9785\n",
            "Epoch 10/10\n",
            "80000/80000 [==============================] - 58s 729us/step - loss: 0.1659 - accuracy: 0.9617 - val_loss: 0.0922 - val_accuracy: 0.9811\n",
            "This is the  5 th iteration for finding the better neural network.\n",
            "Train on 80000 samples, validate on 20000 samples\n",
            "Epoch 1/10\n",
            "80000/80000 [==============================] - 67s 838us/step - loss: 0.6642 - accuracy: 0.7032 - val_loss: 0.5329 - val_accuracy: 0.7883\n",
            "Epoch 2/10\n",
            "80000/80000 [==============================] - 67s 835us/step - loss: 0.5537 - accuracy: 0.7673 - val_loss: 0.4856 - val_accuracy: 0.8007\n",
            "Epoch 3/10\n",
            "80000/80000 [==============================] - 66s 830us/step - loss: 0.5168 - accuracy: 0.7947 - val_loss: 0.4671 - val_accuracy: 0.8169\n",
            "Epoch 4/10\n",
            "80000/80000 [==============================] - 66s 830us/step - loss: 0.4651 - accuracy: 0.8385 - val_loss: 0.2511 - val_accuracy: 0.9410\n",
            "Epoch 5/10\n",
            "80000/80000 [==============================] - 66s 828us/step - loss: 0.2547 - accuracy: 0.9273 - val_loss: 0.1491 - val_accuracy: 0.9643\n",
            "Epoch 6/10\n",
            "80000/80000 [==============================] - 66s 826us/step - loss: 0.1940 - accuracy: 0.9436 - val_loss: 0.1369 - val_accuracy: 0.9611\n",
            "Epoch 7/10\n",
            "80000/80000 [==============================] - 67s 838us/step - loss: 0.1704 - accuracy: 0.9534 - val_loss: 0.1159 - val_accuracy: 0.9709\n",
            "Epoch 8/10\n",
            "80000/80000 [==============================] - 66s 830us/step - loss: 0.1572 - accuracy: 0.9621 - val_loss: 0.0997 - val_accuracy: 0.9758\n",
            "Epoch 9/10\n",
            "80000/80000 [==============================] - 66s 826us/step - loss: 0.1519 - accuracy: 0.9629 - val_loss: 0.1040 - val_accuracy: 0.9761\n",
            "Epoch 10/10\n",
            "80000/80000 [==============================] - 66s 826us/step - loss: 0.1465 - accuracy: 0.9637 - val_loss: 0.0923 - val_accuracy: 0.9786\n",
            "This is the  6 th iteration for finding the better neural network.\n",
            "Train on 80000 samples, validate on 20000 samples\n",
            "Epoch 1/10\n",
            "80000/80000 [==============================] - 71s 885us/step - loss: 0.6461 - accuracy: 0.7287 - val_loss: 0.2919 - val_accuracy: 0.9599\n",
            "Epoch 2/10\n",
            "80000/80000 [==============================] - 70s 875us/step - loss: 0.2800 - accuracy: 0.9365 - val_loss: 0.2180 - val_accuracy: 0.9525\n",
            "Epoch 3/10\n",
            "80000/80000 [==============================] - 71s 884us/step - loss: 0.2253 - accuracy: 0.9490 - val_loss: 0.1672 - val_accuracy: 0.9669\n",
            "Epoch 4/10\n",
            "80000/80000 [==============================] - 70s 878us/step - loss: 0.2073 - accuracy: 0.9545 - val_loss: 0.1314 - val_accuracy: 0.9762\n",
            "Epoch 5/10\n",
            "80000/80000 [==============================] - 70s 879us/step - loss: 0.2059 - accuracy: 0.9551 - val_loss: 0.1283 - val_accuracy: 0.9733\n",
            "Epoch 6/10\n",
            "80000/80000 [==============================] - 70s 880us/step - loss: 0.2011 - accuracy: 0.9554 - val_loss: 0.1387 - val_accuracy: 0.9768\n",
            "Epoch 7/10\n",
            "80000/80000 [==============================] - 70s 876us/step - loss: 0.1878 - accuracy: 0.9592 - val_loss: 0.1235 - val_accuracy: 0.9778\n",
            "Epoch 8/10\n",
            "80000/80000 [==============================] - 70s 875us/step - loss: 0.1913 - accuracy: 0.9578 - val_loss: 0.1162 - val_accuracy: 0.9799\n",
            "Epoch 9/10\n",
            "80000/80000 [==============================] - 70s 874us/step - loss: 0.1776 - accuracy: 0.9588 - val_loss: 0.1355 - val_accuracy: 0.9701\n",
            "Epoch 10/10\n",
            "80000/80000 [==============================] - 71s 883us/step - loss: 0.1716 - accuracy: 0.9613 - val_loss: 0.0999 - val_accuracy: 0.9798\n"
          ],
          "name": "stdout"
        }
      ]
    },
    {
      "cell_type": "markdown",
      "metadata": {
        "id": "Li3ujyGoLITd",
        "colab_type": "text"
      },
      "source": [
        "Just to be sure that our model is working"
      ]
    },
    {
      "cell_type": "code",
      "metadata": {
        "id": "9KdKAtb_P_zu",
        "colab_type": "code",
        "colab": {}
      },
      "source": [
        "y_pred=classifier.predict(X_test)\n",
        "predictions=[]\n",
        "for i in y_pred:\n",
        "  l=i.tolist()\n",
        "  confidence=max(l)\n",
        "  classification=l.index(confidence)\n",
        "  predictions.append(classification)"
      ],
      "execution_count": 0,
      "outputs": []
    },
    {
      "cell_type": "markdown",
      "metadata": {
        "id": "uhYx5wFPSxNV",
        "colab_type": "text"
      },
      "source": [
        "Making the confusion matrix"
      ]
    },
    {
      "cell_type": "code",
      "metadata": {
        "id": "993BelXKSWgk",
        "colab_type": "code",
        "colab": {}
      },
      "source": [
        "from sklearn.metrics import confusion_matrix\n",
        "cm=confusion_matrix(y_test,predictions)"
      ],
      "execution_count": 0,
      "outputs": []
    },
    {
      "cell_type": "code",
      "metadata": {
        "id": "Ey8C0S0MSndd",
        "colab_type": "code",
        "outputId": "232ae654-33b7-4609-d492-a6d45f716fc2",
        "colab": {
          "base_uri": "https://localhost:8080/",
          "height": 67
        }
      },
      "source": [
        "cm"
      ],
      "execution_count": 0,
      "outputs": [
        {
          "output_type": "execute_result",
          "data": {
            "text/plain": [
              "array([[10023,    27,   203],\n",
              "       [   89,  2015,    20],\n",
              "       [   18,    46,  7559]])"
            ]
          },
          "metadata": {
            "tags": []
          },
          "execution_count": 95
        }
      ]
    },
    {
      "cell_type": "markdown",
      "metadata": {
        "id": "AVXaSTlKS2Hz",
        "colab_type": "text"
      },
      "source": [
        "We can see from the confusion matrix that the accuracy is about **97.985%** , which is the validation accuracy for the neural network with the 10 hidden layers."
      ]
    },
    {
      "cell_type": "markdown",
      "metadata": {
        "id": "-8hjkJljT5dy",
        "colab_type": "text"
      },
      "source": [
        "We can also see that the best accuracy is given by the neural network with **7 hidden layers**. But there is a very small distinction between the accuracy of of a neural network with one hidden layer and seven hidden layers . "
      ]
    },
    {
      "cell_type": "markdown",
      "metadata": {
        "id": "AfxY8rZsUgMG",
        "colab_type": "text"
      },
      "source": [
        "#Visualising the neural network\n",
        "We can visualise the neural network to get a sense of it's structure and  improve the interpretation of the model."
      ]
    },
    {
      "cell_type": "code",
      "metadata": {
        "id": "ruyPfZK8U8P8",
        "colab_type": "code",
        "outputId": "cd8f79bd-2471-4779-b16e-1492d07821c9",
        "colab": {
          "base_uri": "https://localhost:8080/",
          "height": 840
        }
      },
      "source": [
        "from keras_sequential_ascii import keras2ascii\n",
        "keras2ascii(classifier)\n",
        "print('\\n The above diagram is the final iteration of the neural network iteration loop. It has 10 hidden layers.')"
      ],
      "execution_count": 0,
      "outputs": [
        {
          "output_type": "stream",
          "text": [
            "           OPERATION           DATA DIMENSIONS   WEIGHTS(N)   WEIGHTS(%)\n",
            "\n",
            "               Input   #####           8\n",
            "               Dense   XXXXX -------------------        45     4.0%\n",
            "                relu   #####           5\n",
            "               Dense   XXXXX -------------------        60     5.3%\n",
            "                relu   #####          10\n",
            "             Dropout    | || -------------------         0     0.0%\n",
            "                       #####          10\n",
            "               Dense   XXXXX -------------------       110     9.8%\n",
            "                relu   #####          10\n",
            "             Dropout    | || -------------------         0     0.0%\n",
            "                       #####          10\n",
            "               Dense   XXXXX -------------------       110     9.8%\n",
            "                relu   #####          10\n",
            "             Dropout    | || -------------------         0     0.0%\n",
            "                       #####          10\n",
            "               Dense   XXXXX -------------------       110     9.8%\n",
            "                relu   #####          10\n",
            "             Dropout    | || -------------------         0     0.0%\n",
            "                       #####          10\n",
            "               Dense   XXXXX -------------------       110     9.8%\n",
            "                relu   #####          10\n",
            "             Dropout    | || -------------------         0     0.0%\n",
            "                       #####          10\n",
            "               Dense   XXXXX -------------------       110     9.8%\n",
            "                relu   #####          10\n",
            "             Dropout    | || -------------------         0     0.0%\n",
            "                       #####          10\n",
            "               Dense   XXXXX -------------------       110     9.8%\n",
            "                relu   #####          10\n",
            "             Dropout    | || -------------------         0     0.0%\n",
            "                       #####          10\n",
            "               Dense   XXXXX -------------------       110     9.8%\n",
            "                relu   #####          10\n",
            "             Dropout    | || -------------------         0     0.0%\n",
            "                       #####          10\n",
            "               Dense   XXXXX -------------------       110     9.8%\n",
            "                relu   #####          10\n",
            "             Dropout    | || -------------------         0     0.0%\n",
            "                       #####          10\n",
            "               Dense   XXXXX -------------------       110     9.8%\n",
            "                relu   #####          10\n",
            "             Dropout    | || -------------------         0     0.0%\n",
            "                       #####          10\n",
            "               Dense   XXXXX -------------------        33     2.9%\n",
            "             softmax   #####           3\n",
            "\n",
            " The above diagram is the final iteration of the neural network iteration loop. It has 10 hidden layers.\n"
          ],
          "name": "stdout"
        }
      ]
    },
    {
      "cell_type": "markdown",
      "metadata": {
        "id": "hh57NP0-mJWk",
        "colab_type": "text"
      },
      "source": [
        "#Visualising all the neural networks created during the iteration"
      ]
    },
    {
      "cell_type": "code",
      "metadata": {
        "id": "8PFN6a1ImSMw",
        "colab_type": "code",
        "outputId": "a74e2abf-0fee-4747-837f-81591959e598",
        "colab": {
          "base_uri": "https://localhost:8080/",
          "height": 1000
        }
      },
      "source": [
        "layers=[1,3,5,7,9,10]\n",
        "\n",
        "for i in range(len(layers)):\n",
        "  print(\" \\n This is iteration-\",i+1,\" \\n \")\n",
        "  classifier=Sequential() #initialising the neural network\n",
        "  classifier.add(Dense(output_dim=5,init='uniform',activation='relu',input_dim=8)) #making the input layer\n",
        "  hidden_layers=layers[i]\n",
        "\n",
        "  for i in range(hidden_layers):\n",
        "    classifier.add(Dense(output_dim=10,init='uniform',activation='relu')) #iteration for adding different numbers of hidden layers\n",
        "    classifier.add(Dropout(0.1)) #dropout , to randomly remove neurons in each layer so as to avoid overfitting\n",
        "\n",
        "  classifier.add(Dense(output_dim=3,init='uniform',activation='softmax')) #making the output layer\n",
        "  optimizer=keras.optimizers.Adam(lr=0.001,decay=1e-6) #defining the optimizer \n",
        "\n",
        "  classifier.compile(loss='sparse_categorical_crossentropy',optimizer=optimizer,metrics=['accuracy']) #compiling the neural network\n",
        "  keras2ascii(classifier)\n"
      ],
      "execution_count": 0,
      "outputs": [
        {
          "output_type": "stream",
          "text": [
            " \n",
            " This is iteration- 1  \n",
            " \n",
            "           OPERATION           DATA DIMENSIONS   WEIGHTS(N)   WEIGHTS(%)\n",
            "\n",
            "               Input   #####           8\n",
            "               Dense   XXXXX -------------------        45    32.6%\n",
            "                relu   #####           5\n",
            "               Dense   XXXXX -------------------        60    43.5%\n",
            "                relu   #####          10\n",
            "             Dropout    | || -------------------         0     0.0%\n",
            "                       #####          10\n",
            "               Dense   XXXXX -------------------        33    23.9%\n",
            "             softmax   #####           3\n",
            " \n",
            " This is iteration- 2  \n",
            " \n",
            "           OPERATION           DATA DIMENSIONS   WEIGHTS(N)   WEIGHTS(%)\n",
            "\n",
            "               Input   #####           8\n",
            "               Dense   XXXXX -------------------        45    12.6%\n",
            "                relu   #####           5\n",
            "               Dense   XXXXX -------------------        60    16.8%\n",
            "                relu   #####          10\n",
            "             Dropout    | || -------------------         0     0.0%\n",
            "                       #####          10\n",
            "               Dense   XXXXX -------------------       110    30.7%\n",
            "                relu   #####          10\n",
            "             Dropout    | || -------------------         0     0.0%\n",
            "                       #####          10\n",
            "               Dense   XXXXX -------------------       110    30.7%\n",
            "                relu   #####          10\n",
            "             Dropout    | || -------------------         0     0.0%\n",
            "                       #####          10\n",
            "               Dense   XXXXX -------------------        33     9.2%\n",
            "             softmax   #####           3\n",
            " \n",
            " This is iteration- 3  \n",
            " \n"
          ],
          "name": "stdout"
        },
        {
          "output_type": "stream",
          "text": [
            "/usr/local/lib/python3.6/dist-packages/ipykernel_launcher.py:6: UserWarning: Update your `Dense` call to the Keras 2 API: `Dense(activation=\"relu\", input_dim=8, units=5, kernel_initializer=\"uniform\")`\n",
            "  \n",
            "/usr/local/lib/python3.6/dist-packages/ipykernel_launcher.py:10: UserWarning: Update your `Dense` call to the Keras 2 API: `Dense(activation=\"relu\", units=10, kernel_initializer=\"uniform\")`\n",
            "  # Remove the CWD from sys.path while we load stuff.\n",
            "/usr/local/lib/python3.6/dist-packages/ipykernel_launcher.py:13: UserWarning: Update your `Dense` call to the Keras 2 API: `Dense(activation=\"softmax\", units=3, kernel_initializer=\"uniform\")`\n",
            "  del sys.path[0]\n"
          ],
          "name": "stderr"
        },
        {
          "output_type": "stream",
          "text": [
            "           OPERATION           DATA DIMENSIONS   WEIGHTS(N)   WEIGHTS(%)\n",
            "\n",
            "               Input   #####           8\n",
            "               Dense   XXXXX -------------------        45     7.8%\n",
            "                relu   #####           5\n",
            "               Dense   XXXXX -------------------        60    10.4%\n",
            "                relu   #####          10\n",
            "             Dropout    | || -------------------         0     0.0%\n",
            "                       #####          10\n",
            "               Dense   XXXXX -------------------       110    19.0%\n",
            "                relu   #####          10\n",
            "             Dropout    | || -------------------         0     0.0%\n",
            "                       #####          10\n",
            "               Dense   XXXXX -------------------       110    19.0%\n",
            "                relu   #####          10\n",
            "             Dropout    | || -------------------         0     0.0%\n",
            "                       #####          10\n",
            "               Dense   XXXXX -------------------       110    19.0%\n",
            "                relu   #####          10\n",
            "             Dropout    | || -------------------         0     0.0%\n",
            "                       #####          10\n",
            "               Dense   XXXXX -------------------       110    19.0%\n",
            "                relu   #####          10\n",
            "             Dropout    | || -------------------         0     0.0%\n",
            "                       #####          10\n",
            "               Dense   XXXXX -------------------        33     5.7%\n",
            "             softmax   #####           3\n",
            " \n",
            " This is iteration- 4  \n",
            " \n",
            "           OPERATION           DATA DIMENSIONS   WEIGHTS(N)   WEIGHTS(%)\n",
            "\n",
            "               Input   #####           8\n",
            "               Dense   XXXXX -------------------        45     5.6%\n",
            "                relu   #####           5\n",
            "               Dense   XXXXX -------------------        60     7.5%\n",
            "                relu   #####          10\n",
            "             Dropout    | || -------------------         0     0.0%\n",
            "                       #####          10\n",
            "               Dense   XXXXX -------------------       110    13.8%\n",
            "                relu   #####          10\n",
            "             Dropout    | || -------------------         0     0.0%\n",
            "                       #####          10\n",
            "               Dense   XXXXX -------------------       110    13.8%\n",
            "                relu   #####          10\n",
            "             Dropout    | || -------------------         0     0.0%\n",
            "                       #####          10\n",
            "               Dense   XXXXX -------------------       110    13.8%\n",
            "                relu   #####          10\n",
            "             Dropout    | || -------------------         0     0.0%\n",
            "                       #####          10\n",
            "               Dense   XXXXX -------------------       110    13.8%\n",
            "                relu   #####          10\n",
            "             Dropout    | || -------------------         0     0.0%\n",
            "                       #####          10\n",
            "               Dense   XXXXX -------------------       110    13.8%\n",
            "                relu   #####          10\n",
            "             Dropout    | || -------------------         0     0.0%\n",
            "                       #####          10\n",
            "               Dense   XXXXX -------------------       110    13.8%\n",
            "                relu   #####          10\n",
            "             Dropout    | || -------------------         0     0.0%\n",
            "                       #####          10\n",
            "               Dense   XXXXX -------------------        33     4.1%\n",
            "             softmax   #####           3\n",
            " \n",
            " This is iteration- 5  \n",
            " \n",
            "           OPERATION           DATA DIMENSIONS   WEIGHTS(N)   WEIGHTS(%)\n",
            "\n",
            "               Input   #####           8\n",
            "               Dense   XXXXX -------------------        45     4.4%\n",
            "                relu   #####           5\n",
            "               Dense   XXXXX -------------------        60     5.9%\n",
            "                relu   #####          10\n",
            "             Dropout    | || -------------------         0     0.0%\n",
            "                       #####          10\n",
            "               Dense   XXXXX -------------------       110    10.8%\n",
            "                relu   #####          10\n",
            "             Dropout    | || -------------------         0     0.0%\n",
            "                       #####          10\n",
            "               Dense   XXXXX -------------------       110    10.8%\n",
            "                relu   #####          10\n",
            "             Dropout    | || -------------------         0     0.0%\n",
            "                       #####          10\n",
            "               Dense   XXXXX -------------------       110    10.8%\n",
            "                relu   #####          10\n",
            "             Dropout    | || -------------------         0     0.0%\n",
            "                       #####          10\n",
            "               Dense   XXXXX -------------------       110    10.8%\n",
            "                relu   #####          10\n",
            "             Dropout    | || -------------------         0     0.0%\n",
            "                       #####          10\n",
            "               Dense   XXXXX -------------------       110    10.8%\n",
            "                relu   #####          10\n",
            "             Dropout    | || -------------------         0     0.0%\n",
            "                       #####          10\n",
            "               Dense   XXXXX -------------------       110    10.8%\n",
            "                relu   #####          10\n",
            "             Dropout    | || -------------------         0     0.0%\n",
            "                       #####          10\n",
            "               Dense   XXXXX -------------------       110    10.8%\n",
            "                relu   #####          10\n",
            "             Dropout    | || -------------------         0     0.0%\n",
            "                       #####          10\n",
            "               Dense   XXXXX -------------------       110    10.8%\n",
            "                relu   #####          10\n",
            "             Dropout    | || -------------------         0     0.0%\n",
            "                       #####          10\n",
            "               Dense   XXXXX -------------------        33     3.2%\n",
            "             softmax   #####           3\n",
            " \n",
            " This is iteration- 6  \n",
            " \n",
            "           OPERATION           DATA DIMENSIONS   WEIGHTS(N)   WEIGHTS(%)\n",
            "\n",
            "               Input   #####           8\n",
            "               Dense   XXXXX -------------------        45     4.0%\n",
            "                relu   #####           5\n",
            "               Dense   XXXXX -------------------        60     5.3%\n",
            "                relu   #####          10\n",
            "             Dropout    | || -------------------         0     0.0%\n",
            "                       #####          10\n",
            "               Dense   XXXXX -------------------       110     9.8%\n",
            "                relu   #####          10\n",
            "             Dropout    | || -------------------         0     0.0%\n",
            "                       #####          10\n",
            "               Dense   XXXXX -------------------       110     9.8%\n",
            "                relu   #####          10\n",
            "             Dropout    | || -------------------         0     0.0%\n",
            "                       #####          10\n",
            "               Dense   XXXXX -------------------       110     9.8%\n",
            "                relu   #####          10\n",
            "             Dropout    | || -------------------         0     0.0%\n",
            "                       #####          10\n",
            "               Dense   XXXXX -------------------       110     9.8%\n",
            "                relu   #####          10\n",
            "             Dropout    | || -------------------         0     0.0%\n",
            "                       #####          10\n",
            "               Dense   XXXXX -------------------       110     9.8%\n",
            "                relu   #####          10\n",
            "             Dropout    | || -------------------         0     0.0%\n",
            "                       #####          10\n",
            "               Dense   XXXXX -------------------       110     9.8%\n",
            "                relu   #####          10\n",
            "             Dropout    | || -------------------         0     0.0%\n",
            "                       #####          10\n",
            "               Dense   XXXXX -------------------       110     9.8%\n",
            "                relu   #####          10\n",
            "             Dropout    | || -------------------         0     0.0%\n",
            "                       #####          10\n",
            "               Dense   XXXXX -------------------       110     9.8%\n",
            "                relu   #####          10\n",
            "             Dropout    | || -------------------         0     0.0%\n",
            "                       #####          10\n",
            "               Dense   XXXXX -------------------       110     9.8%\n",
            "                relu   #####          10\n",
            "             Dropout    | || -------------------         0     0.0%\n",
            "                       #####          10\n",
            "               Dense   XXXXX -------------------        33     2.9%\n",
            "             softmax   #####           3\n"
          ],
          "name": "stdout"
        }
      ]
    }
  ]
}